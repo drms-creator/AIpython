{
  "nbformat": 4,
  "nbformat_minor": 0,
  "metadata": {
    "colab": {
      "provenance": [],
      "authorship_tag": "ABX9TyNQsW+C/NBxqH9HNezBAMRt",
      "include_colab_link": true
    },
    "kernelspec": {
      "name": "python3",
      "display_name": "Python 3"
    },
    "language_info": {
      "name": "python"
    }
  },
  "cells": [
    {
      "cell_type": "markdown",
      "metadata": {
        "id": "view-in-github",
        "colab_type": "text"
      },
      "source": [
        "<a href=\"https://colab.research.google.com/github/drms-creator/AIpython/blob/main/250328.ipynb\" target=\"_parent\"><img src=\"https://colab.research.google.com/assets/colab-badge.svg\" alt=\"Open In Colab\"/></a>"
      ]
    },
    {
      "cell_type": "markdown",
      "source": [
        "# 세 수 중 가장 큰 수 찾기"
      ],
      "metadata": {
        "id": "n81xijxbaFuX"
      }
    },
    {
      "cell_type": "code",
      "source": [
        "# 문제 : 세 수 중 가장 큰 수 찾기\n",
        "num1 = int(input(\"첫 번째 정수를 입력하세요: \"))\n",
        "print(f\"첫 번째 수: {num1}\")\n",
        "\n",
        "num2 = int(input(\"두 번째 정수를 입력하세요: \"))\n",
        "print(f\"두 번째 수: {num2}\")\n",
        "\n",
        "num3 = int(input(\"세 번째 정수를 입력하세요: \"))\n",
        "print(f\"세 번째 수: {num3}\")\n",
        "\n",
        "max_num = num1 # 처음에는 num1이 가장 크다고 가정\n",
        "\n",
        "if num2 > max_num:\n",
        "  print(f\"두 번째 수 {num2}가 현재 최댓값 {max_num}보다 큽니다. 최댓값을 업데이트합니다.\")\n",
        "  max_num = num2\n",
        "\n",
        "else:\n",
        "  print(f\"두 번째 수 {num2}는 현재 최대값 {max_num}보다 크지 않습니다.\")\n",
        "\n",
        "if num3 > max_num:\n",
        "  print(f\"세 번째 수 {num3}가 현재 최댓값 {max_num}보다 큽니다. 최댓값을 업데이트합니다.\")\n",
        "  max_num = num3\n",
        "\n",
        "else:\n",
        "  print(f\"세 번째 수 {num3}는 현재 최대값 {max_num}보다 크지 않습니다.\")\n",
        "\n",
        "\n",
        "print(f\"\\n입력하신 세 수 {num1}, {num2}, {num3} 중에서 가장 큰 수는 {max_num}입니다.\")"
      ],
      "metadata": {
        "colab": {
          "base_uri": "https://localhost:8080/"
        },
        "id": "CXE4Fn-CUfEK",
        "outputId": "d337f6a4-3975-47bd-981d-c3922f49bb81"
      },
      "execution_count": 5,
      "outputs": [
        {
          "output_type": "stream",
          "name": "stdout",
          "text": [
            "첫 번째 정수를 입력하세요: 5\n",
            "첫 번째 수: 5\n",
            "두 번째 정수를 입력하세요: 6\n",
            "두 번째 수: 6\n",
            "세 번째 정수를 입력하세요: 7\n",
            "세 번째 수: 7\n",
            "두 번째 수 6가 현재 최댓값 5보다 큽니다. 최댓값을 업데이트합니다.\n",
            "세 번째 수 7가 현재 최댓값 6보다 큽니다. 최댓값을 업데이트합니다.\n",
            "\n",
            "입력하신 세 수 5, 6, 7 중에서 가장 큰 수는 7입니다.\n"
          ]
        }
      ]
    },
    {
      "cell_type": "code",
      "source": [
        "num1, num2, num3 = map(int, input().split())\n",
        "max_num = num1\n",
        "\n",
        "if num2 > max_num:\n",
        "  max_num = num2\n",
        "\n",
        "if num3 > max_num:\n",
        "  max_num = num3\n",
        "\n",
        "print(f\"\\n가장 큰 수는 {max_num}입니다.\")"
      ],
      "metadata": {
        "colab": {
          "base_uri": "https://localhost:8080/"
        },
        "id": "mGdu-d60YanG",
        "outputId": "af646484-231e-461d-ca9f-cee0b41962f0"
      },
      "execution_count": 19,
      "outputs": [
        {
          "output_type": "stream",
          "name": "stdout",
          "text": [
            "4 5 6\n",
            "\n",
            "가장 큰 수는 6입니다.\n"
          ]
        }
      ]
    },
    {
      "cell_type": "markdown",
      "source": [
        "## if ~ elif vs if ~ if 구조의 주요 차이점\n",
        "<br>1. 논리적 흐름의 차이\n",
        "\n",
        "<br>if ~ elif: 첫 번째 조건이 거짓일 때만 elif 조건을 검사. 즉, 상호 배타적인 조건들.\n",
        "<br>if ~ if: 각 if 문은 독립적으로 평가되며, 이전 조건의 결과와 관계없이 모든 if 문을 검사.\n",
        "\n",
        "<br>2. 실행 경로\n",
        "\n",
        "<br>if ~ elif: 여러 조건 중 참인 첫 번째 조건의 코드 블록만 실행.\n",
        "<br>if ~ if: 조건이 참인 모든 if 문의 코드 블록이 실행."
      ],
      "metadata": {
        "id": "avnPlkTlbjWt"
      }
    },
    {
      "cell_type": "code",
      "source": [
        "try:\n",
        "  num1, num2, num3 = map(int, input(\"세 정수를 띄어쓰기하여 입력하시오: \").split())\n",
        "  max_num = num1\n",
        "\n",
        "  if num2 > max_num:\n",
        "    max_num = num2\n",
        "\n",
        "  if num3 > max_num:\n",
        "    max_num = num3\n",
        "\n",
        "  print(f\"가장 큰 수는 {max_num}입니다.\")\n",
        "\n",
        "except ValueError:\n",
        "  print(\"유효한 정수를 입력하세요.\")"
      ],
      "metadata": {
        "colab": {
          "base_uri": "https://localhost:8080/"
        },
        "id": "5Apy176BYq7d",
        "outputId": "096b9d39-131a-4097-e44c-53c369e1050f"
      },
      "execution_count": 39,
      "outputs": [
        {
          "output_type": "stream",
          "name": "stdout",
          "text": [
            "세 정수를 띄어쓰기하여 입력하시오: 5 6 7\n",
            "가장 큰 수는 7입니다.\n"
          ]
        }
      ]
    },
    {
      "cell_type": "markdown",
      "source": [
        "# 학점 판별하기"
      ],
      "metadata": {
        "id": "QZ--5Io8b2d0"
      }
    },
    {
      "cell_type": "code",
      "source": [
        "score = int(input(\"시험 점수 (0~100)를 입력하세요: \"))\n",
        "\n",
        "if 0 <= score <= 100:\n",
        "\n",
        "  if score >= 90:\n",
        "    grade = 'A'\n",
        "\n",
        "  elif score >= 80:\n",
        "    grade = 'B'\n",
        "\n",
        "  elif score >= 70:\n",
        "    grade = 'C'\n",
        "\n",
        "  elif score >= 60:\n",
        "    grade = 'D'\n",
        "\n",
        "  else:\n",
        "    grade = 'F'\n",
        "\n",
        "  print(f\"당신의 학점은 {grade}입니다.\")\n",
        "\n",
        "\n",
        "else:\n",
        "\n",
        "  print(\"점수는 0부터 100 사이의 값이어야 합니다.\")"
      ],
      "metadata": {
        "colab": {
          "base_uri": "https://localhost:8080/"
        },
        "id": "t8B8W1ZgZWCE",
        "outputId": "09feb1aa-8acf-4d59-f972-7fb44fbf566d"
      },
      "execution_count": 24,
      "outputs": [
        {
          "output_type": "stream",
          "name": "stdout",
          "text": [
            "시험 점수 (0~100)를 입력하세요: 100\n",
            "당신의 학점은 A입니다.\n"
          ]
        }
      ]
    },
    {
      "cell_type": "code",
      "source": [
        "try:\n",
        "  score = int(input(\"시험 점수 (0~100)를 입력하세요: \"))\n",
        "  if 0 <= score <= 100:\n",
        "\n",
        "    if score >= 90:\n",
        "      grade = 'A'\n",
        "\n",
        "    elif score >= 80:\n",
        "      grade = 'B'\n",
        "\n",
        "    elif score >= 70:\n",
        "      grade = 'C'\n",
        "\n",
        "    elif score >= 60:\n",
        "      grade = 'D'\n",
        "\n",
        "    else:\n",
        "      grade = 'F'\n",
        "\n",
        "    print(f\"당신의 학점은 {grade}입니다.\")\n",
        "\n",
        "\n",
        "  else:\n",
        "    print(\"점수는 0부터 100 사이의 값이어야 합니다.\")\n",
        "\n",
        "except ValueError:\n",
        "  print(\"유효한 정수를 입력하세요.\")"
      ],
      "metadata": {
        "colab": {
          "base_uri": "https://localhost:8080/"
        },
        "id": "PNWQ_s0Tb3uA",
        "outputId": "2ec5cfcb-e038-40f0-e5bb-115b62d48275"
      },
      "execution_count": 37,
      "outputs": [
        {
          "output_type": "stream",
          "name": "stdout",
          "text": [
            "시험 점수 (0~100)를 입력하세요: 100\n",
            "당신의 학점은 A입니다.\n"
          ]
        }
      ]
    },
    {
      "cell_type": "markdown",
      "source": [
        "# 윤년 판별하기"
      ],
      "metadata": {
        "id": "RaidNQqSfN1E"
      }
    },
    {
      "cell_type": "code",
      "source": [
        "year = int(input(\"연도를 입력하세요: \"))\n",
        "\n",
        "if ((year%4 == 0) and (year%100 != 0)) or (year%400 == 0):\n",
        "  print(f\"{year}년은 윤년입니다.\")\n",
        "else:\n",
        "  print(f\"{year}년은 윤년이 아닙니다.\")"
      ],
      "metadata": {
        "colab": {
          "base_uri": "https://localhost:8080/"
        },
        "id": "hyPozJcBfNDn",
        "outputId": "93722063-9a45-4097-a4f1-daf83d5f38f5"
      },
      "execution_count": 31,
      "outputs": [
        {
          "output_type": "stream",
          "name": "stdout",
          "text": [
            "연도를 입력하세요: 2027\n",
            "2027년은 윤년이 아닙니다.\n"
          ]
        }
      ]
    },
    {
      "cell_type": "code",
      "source": [
        "year = int(input(\"연도를 입력하세요: \"))\n",
        "\n",
        "if ((year%4 == 0) and (year%100 != 0)):\n",
        "  print(f\"{year}년은 윤년입니다.\")\n",
        "elif  year%400 == 0:\n",
        "  print(f\"{year}년은 윤년입니다.\")\n",
        "else:\n",
        "  print(f\"{year}년은 윤년이 아닙니다.\")"
      ],
      "metadata": {
        "colab": {
          "base_uri": "https://localhost:8080/"
        },
        "id": "9K3n1sxfgCcd",
        "outputId": "5e83c553-1ee1-478a-90db-4fb9d757988d"
      },
      "execution_count": 33,
      "outputs": [
        {
          "output_type": "stream",
          "name": "stdout",
          "text": [
            "연도를 입력하세요: 1600\n",
            "1600년은 윤년입니다.\n"
          ]
        }
      ]
    },
    {
      "cell_type": "code",
      "source": [
        "#code place 기준\n",
        "year = int(input())\n",
        "\n",
        "if ((year%4 == 0) and (year%100 != 0)):\n",
        "  print(\"윤년\")\n",
        "elif  year%400 == 0:\n",
        "  print(\"윤년\")\n",
        "else:\n",
        "  print(\"평년\")"
      ],
      "metadata": {
        "colab": {
          "base_uri": "https://localhost:8080/"
        },
        "id": "clN8RUVKgPxe",
        "outputId": "921113f1-3116-42ab-a805-c889927e1f17"
      },
      "execution_count": 40,
      "outputs": [
        {
          "output_type": "stream",
          "name": "stdout",
          "text": [
            "2000\n",
            "윤년\n"
          ]
        }
      ]
    },
    {
      "cell_type": "code",
      "source": [
        "# 식별자 에약어 식별자 식별자(숫자)\n",
        "# i,j,k는 반복 변수로 많이 쓴다.\n",
        "# for 변수 in 시퀀스:"
      ],
      "metadata": {
        "id": "_k-TNGmThObL"
      },
      "execution_count": null,
      "outputs": []
    },
    {
      "cell_type": "code",
      "source": [
        "for i in range(5):\n",
        "  print(i)"
      ],
      "metadata": {
        "colab": {
          "base_uri": "https://localhost:8080/"
        },
        "id": "vVdjD3pvk2wd",
        "outputId": "5194f647-b22f-429c-f784-6e869aab3911"
      },
      "execution_count": 42,
      "outputs": [
        {
          "output_type": "stream",
          "name": "stdout",
          "text": [
            "0\n",
            "1\n",
            "2\n",
            "3\n",
            "4\n"
          ]
        }
      ]
    },
    {
      "cell_type": "code",
      "source": [
        "for i in range(5):\n",
        "  print(i+1)"
      ],
      "metadata": {
        "colab": {
          "base_uri": "https://localhost:8080/"
        },
        "id": "2gYrRyPEk6cW",
        "outputId": "246c8a12-4f58-47b5-c04f-198fbaddbbda"
      },
      "execution_count": 44,
      "outputs": [
        {
          "output_type": "stream",
          "name": "stdout",
          "text": [
            "1\n",
            "2\n",
            "3\n",
            "4\n",
            "5\n"
          ]
        }
      ]
    },
    {
      "cell_type": "code",
      "source": [
        "for i in range(5):\n",
        "  print(\"반복!\", i+1)"
      ],
      "metadata": {
        "colab": {
          "base_uri": "https://localhost:8080/"
        },
        "id": "PiX2lebwlBLO",
        "outputId": "2edfd4b2-63d1-42e1-8ccb-80b7843a30fa"
      },
      "execution_count": 45,
      "outputs": [
        {
          "output_type": "stream",
          "name": "stdout",
          "text": [
            "반복! 1\n",
            "반복! 2\n",
            "반복! 3\n",
            "반복! 4\n",
            "반복! 5\n"
          ]
        }
      ]
    },
    {
      "cell_type": "code",
      "source": [
        "for i in range(1, 6):\n",
        "  print(\"반복!\", i)"
      ],
      "metadata": {
        "colab": {
          "base_uri": "https://localhost:8080/"
        },
        "id": "dv1FFrasl7Cu",
        "outputId": "e357a84c-1917-4444-a8a2-0ca7365ab77d"
      },
      "execution_count": 48,
      "outputs": [
        {
          "output_type": "stream",
          "name": "stdout",
          "text": [
            "반복! 1\n",
            "반복! 2\n",
            "반복! 3\n",
            "반복! 4\n",
            "반복! 5\n"
          ]
        }
      ]
    },
    {
      "cell_type": "code",
      "source": [
        "for i in range(1, 10, 2): #(start, end, step)\n",
        "  print(\"반복!\", i)"
      ],
      "metadata": {
        "colab": {
          "base_uri": "https://localhost:8080/"
        },
        "id": "s_Y69GCrmAbv",
        "outputId": "ef13704f-a774-405c-c98a-072bb9fd6985"
      },
      "execution_count": 52,
      "outputs": [
        {
          "output_type": "stream",
          "name": "stdout",
          "text": [
            "반복! 1\n",
            "반복! 3\n",
            "반복! 5\n",
            "반복! 7\n",
            "반복! 9\n"
          ]
        }
      ]
    },
    {
      "cell_type": "code",
      "source": [
        "for i in [1,2,3,4,5]:\n",
        "  print(\"반복!\", i)"
      ],
      "metadata": {
        "colab": {
          "base_uri": "https://localhost:8080/"
        },
        "id": "1FhzaMAXmMHx",
        "outputId": "5732e362-10b9-4126-864c-6dd4dbd1a2a7"
      },
      "execution_count": 53,
      "outputs": [
        {
          "output_type": "stream",
          "name": "stdout",
          "text": [
            "반복! 1\n",
            "반복! 2\n",
            "반복! 3\n",
            "반복! 4\n",
            "반복! 5\n"
          ]
        }
      ]
    },
    {
      "cell_type": "markdown",
      "source": [
        "리스트에는 다양한 것들이 들어간다.\n",
        "<br>\n",
        "문자와 숫자 섞어서 들어갈 수도 있다.\n",
        "<br>\n",
        "fruits = [\"apple\", \"banana\", \"cherry\"]\n",
        "<br>\n",
        "fruits <- 리스트 변수\n",
        "<br>\n",
        "str = \"Hello\"\n",
        "<br>\n",
        "str 자체가 리스트가 될 수도 있다."
      ],
      "metadata": {
        "id": "Yd_KuGlzmoZG"
      }
    },
    {
      "cell_type": "code",
      "source": [
        "string = \"Hello\"\n",
        "for i in string:\n",
        "  print(i)"
      ],
      "metadata": {
        "colab": {
          "base_uri": "https://localhost:8080/"
        },
        "id": "04B2KuDVms9P",
        "outputId": "54821a4b-2b19-4947-a6a4-3bba470ef84e"
      },
      "execution_count": 73,
      "outputs": [
        {
          "output_type": "stream",
          "name": "stdout",
          "text": [
            "H\n",
            "e\n",
            "l\n",
            "l\n",
            "o\n"
          ]
        }
      ]
    },
    {
      "cell_type": "code",
      "source": [
        "count = 0 # 반복에서 start를 의미\n",
        "while count < 3: # 반복조건\n",
        "  print(\"반복 중:\", count)\n",
        "  count += 1 # count(새로운 카운트 값) = count(현재 카운트 값) + 1 <- 업데이트\n",
        "  # += : 축약 연산자"
      ],
      "metadata": {
        "colab": {
          "base_uri": "https://localhost:8080/"
        },
        "id": "6rKQ0QVDnRIe",
        "outputId": "6c5a5af3-c6c7-43de-e539-9280ed307b8f"
      },
      "execution_count": 56,
      "outputs": [
        {
          "output_type": "stream",
          "name": "stdout",
          "text": [
            "반복 중: 0\n",
            "반복 중: 1\n",
            "반복 중: 2\n"
          ]
        }
      ]
    },
    {
      "cell_type": "markdown",
      "source": [
        "while문\n",
        "<br>\n",
        "start, stop, step 이 있어야 함"
      ],
      "metadata": {
        "id": "-MGtr1SpoQJZ"
      }
    },
    {
      "cell_type": "markdown",
      "source": [
        "# 1부터 N까지의 합 계산하기"
      ],
      "metadata": {
        "id": "8IGRFEOromGM"
      }
    },
    {
      "cell_type": "code",
      "source": [
        "N = int(input(\"양의 정수 N을 입력하세요: \"))\n",
        "sum = 0\n",
        "for i in range(1,N+1):\n",
        "  sum += i\n",
        "  print(f\"{i}번 : 1부터 {N}까지의 합은 : {sum} 입니다.\")"
      ],
      "metadata": {
        "colab": {
          "base_uri": "https://localhost:8080/"
        },
        "id": "YvXKLorZqrEW",
        "outputId": "eb32022a-a92f-4a6e-d9b9-71db11fe4c39"
      },
      "execution_count": 68,
      "outputs": [
        {
          "output_type": "stream",
          "name": "stdout",
          "text": [
            "양의 정수 N을 입력하세요: 10\n",
            "1번 : 1부터 10까지의 합은 : 1 입니다.\n",
            "2번 : 1부터 10까지의 합은 : 3 입니다.\n",
            "3번 : 1부터 10까지의 합은 : 6 입니다.\n",
            "4번 : 1부터 10까지의 합은 : 10 입니다.\n",
            "5번 : 1부터 10까지의 합은 : 15 입니다.\n",
            "6번 : 1부터 10까지의 합은 : 21 입니다.\n",
            "7번 : 1부터 10까지의 합은 : 28 입니다.\n",
            "8번 : 1부터 10까지의 합은 : 36 입니다.\n",
            "9번 : 1부터 10까지의 합은 : 45 입니다.\n",
            "10번 : 1부터 10까지의 합은 : 55 입니다.\n"
          ]
        }
      ]
    },
    {
      "cell_type": "code",
      "source": [
        "try:\n",
        "  N = int(input(\"양의 정수 N을 입력하세요: \"))\n",
        "  if 1 <= N:\n",
        "    sum = 0\n",
        "    for i in range(1,N+1):\n",
        "      sum += i\n",
        "    print(sum)\n",
        "\n",
        "  else:\n",
        "    print(\"1 이상의 양의정수를 입력해주세요.\")\n",
        "\n",
        "except ValueError:\n",
        "  print(\"유효한 값을 입력해주세요.\")"
      ],
      "metadata": {
        "colab": {
          "base_uri": "https://localhost:8080/"
        },
        "id": "IAKLFe-6oVzZ",
        "outputId": "221731a7-c2a6-427e-d52a-b215fc9625ca"
      },
      "execution_count": 64,
      "outputs": [
        {
          "output_type": "stream",
          "name": "stdout",
          "text": [
            "400\n",
            "80200\n"
          ]
        }
      ]
    },
    {
      "cell_type": "markdown",
      "source": [
        "# 특정 조건까지 반복하기 (while 루프)"
      ],
      "metadata": {
        "id": "DUtmbDubrX9S"
      }
    },
    {
      "cell_type": "code",
      "source": [
        "count = 0\n",
        "print(\"0부터 9까지 출력: \")\n",
        "while count < 10:\n",
        "  print(count)\n",
        "  count += 1\n",
        "print(\"while 루프 종료\")"
      ],
      "metadata": {
        "colab": {
          "base_uri": "https://localhost:8080/"
        },
        "id": "0YDPtc_Aootx",
        "outputId": "92156573-a1b5-4ab9-cb1d-7af8b2b4457b"
      },
      "execution_count": 69,
      "outputs": [
        {
          "output_type": "stream",
          "name": "stdout",
          "text": [
            "0부터 9까지 출력: \n",
            "0\n",
            "1\n",
            "2\n",
            "3\n",
            "4\n",
            "5\n",
            "6\n",
            "7\n",
            "8\n",
            "9\n",
            "while 루프 종료\n"
          ]
        }
      ]
    },
    {
      "cell_type": "code",
      "source": [
        "# for문으로 바꾸기\n",
        "print(\"0부터 9까지 출력: \")\n",
        "for i in range(10):\n",
        "  print(i)\n",
        "print(\"for 루프 종료\")"
      ],
      "metadata": {
        "colab": {
          "base_uri": "https://localhost:8080/"
        },
        "id": "lmasdCo6r1Vv",
        "outputId": "d234229a-b9d5-4bfc-ae09-27896a23cf9d"
      },
      "execution_count": 74,
      "outputs": [
        {
          "output_type": "stream",
          "name": "stdout",
          "text": [
            "0부터 9까지 출력: \n",
            "0\n",
            "1\n",
            "2\n",
            "3\n",
            "4\n",
            "5\n",
            "6\n",
            "7\n",
            "8\n",
            "9\n",
            "for 루프 종료\n"
          ]
        }
      ]
    },
    {
      "cell_type": "code",
      "source": [
        "# for문으로 바꾸기\n",
        "print(\"0부터 9까지 출력: \")\n",
        "for i in range(0,10,1): # start, end, step\n",
        "  print(i)\n",
        "print(\"for 루프 종료\")"
      ],
      "metadata": {
        "colab": {
          "base_uri": "https://localhost:8080/"
        },
        "id": "2PRPU2MNsI_Y",
        "outputId": "59ee5488-41e7-477d-a130-4af43624310c"
      },
      "execution_count": 75,
      "outputs": [
        {
          "output_type": "stream",
          "name": "stdout",
          "text": [
            "0부터 9까지 출력: \n",
            "0\n",
            "1\n",
            "2\n",
            "3\n",
            "4\n",
            "5\n",
            "6\n",
            "7\n",
            "8\n",
            "9\n",
            "for 루프 종료\n"
          ]
        }
      ]
    },
    {
      "cell_type": "code",
      "source": [],
      "metadata": {
        "id": "h6O2w23IsMXo"
      },
      "execution_count": null,
      "outputs": []
    }
  ]
}