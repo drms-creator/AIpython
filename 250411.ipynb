{
  "nbformat": 4,
  "nbformat_minor": 0,
  "metadata": {
    "colab": {
      "provenance": [],
      "authorship_tag": "ABX9TyMy2+GBBtneA6bpE2ZsVXl7",
      "include_colab_link": true
    },
    "kernelspec": {
      "name": "python3",
      "display_name": "Python 3"
    },
    "language_info": {
      "name": "python"
    }
  },
  "cells": [
    {
      "cell_type": "markdown",
      "metadata": {
        "id": "view-in-github",
        "colab_type": "text"
      },
      "source": [
        "<a href=\"https://colab.research.google.com/github/drms-creator/AIpython/blob/main/250411.ipynb\" target=\"_parent\"><img src=\"https://colab.research.google.com/assets/colab-badge.svg\" alt=\"Open In Colab\"/></a>"
      ]
    },
    {
      "cell_type": "code",
      "execution_count": 1,
      "metadata": {
        "colab": {
          "base_uri": "https://localhost:8080/"
        },
        "id": "2H0wv8TLccLq",
        "outputId": "4f45312c-ad92-4242-8ec1-c40a46e3370e"
      },
      "outputs": [
        {
          "output_type": "stream",
          "name": "stdout",
          "text": [
            "이름: 함빛\n",
            "나이: 20\n"
          ]
        }
      ],
      "source": [
        "s = '''이름: 함빛\n",
        "나이: 20'''\n",
        "print(s)"
      ]
    },
    {
      "cell_type": "markdown",
      "source": [
        "\\n : 역슬래시 영문버전<br>\n",
        "₩n : 역슬래시 한글버전<br>\n"
      ],
      "metadata": {
        "id": "RcOF_NLEctDA"
      }
    },
    {
      "cell_type": "code",
      "source": [
        "s = '이름: 한빛\\n나이: 20'\n",
        "print(s)"
      ],
      "metadata": {
        "colab": {
          "base_uri": "https://localhost:8080/"
        },
        "id": "JEiw5UTdcmGg",
        "outputId": "8d4dc016-65fc-402e-d6d7-3c137e42dd30"
      },
      "execution_count": 2,
      "outputs": [
        {
          "output_type": "stream",
          "name": "stdout",
          "text": [
            "이름: 한빛\n",
            "나이: 20\n"
          ]
        }
      ]
    },
    {
      "cell_type": "code",
      "source": [
        "s = '\\'한빛\\'아카데미'\n",
        "print(s)"
      ],
      "metadata": {
        "colab": {
          "base_uri": "https://localhost:8080/"
        },
        "id": "6Bg3A6vAdKJl",
        "outputId": "327e5ff0-3850-4c57-d665-ddfe4a3e63b5"
      },
      "execution_count": 3,
      "outputs": [
        {
          "output_type": "stream",
          "name": "stdout",
          "text": [
            "'한빛'아카데미\n"
          ]
        }
      ]
    },
    {
      "cell_type": "code",
      "source": [
        "S = 'abc'\n",
        "S[1]"
      ],
      "metadata": {
        "colab": {
          "base_uri": "https://localhost:8080/",
          "height": 36
        },
        "id": "GmguL4vpdymv",
        "outputId": "a8c0bc43-d809-4cb0-e921-5172c9e32159"
      },
      "execution_count": 4,
      "outputs": [
        {
          "output_type": "execute_result",
          "data": {
            "text/plain": [
              "'b'"
            ],
            "application/vnd.google.colaboratory.intrinsic+json": {
              "type": "string"
            }
          },
          "metadata": {},
          "execution_count": 4
        }
      ]
    },
    {
      "cell_type": "code",
      "source": [
        "S"
      ],
      "metadata": {
        "colab": {
          "base_uri": "https://localhost:8080/",
          "height": 36
        },
        "id": "035YrxDhd3vN",
        "outputId": "31caffba-e977-47fc-8970-4105b883ac1e"
      },
      "execution_count": 5,
      "outputs": [
        {
          "output_type": "execute_result",
          "data": {
            "text/plain": [
              "'abc'"
            ],
            "application/vnd.google.colaboratory.intrinsic+json": {
              "type": "string"
            }
          },
          "metadata": {},
          "execution_count": 5
        }
      ]
    },
    {
      "cell_type": "markdown",
      "source": [
        "# print(end = \"\") 의 역할"
      ],
      "metadata": {
        "id": "g2HJ8cSfet-9"
      }
    },
    {
      "cell_type": "code",
      "source": [
        "S = 'abc'\n",
        "for i in range(len(S)):\n",
        "  print(S[i], end=\"\")"
      ],
      "metadata": {
        "colab": {
          "base_uri": "https://localhost:8080/"
        },
        "id": "4qkjb7yOd7h4",
        "outputId": "414e1a02-20ed-4c3d-fb29-a4ef07f2c550"
      },
      "execution_count": 8,
      "outputs": [
        {
          "output_type": "stream",
          "name": "stdout",
          "text": [
            "abc"
          ]
        }
      ]
    },
    {
      "cell_type": "code",
      "source": [
        "S = 'abc'\n",
        "for i in range(len(S)):\n",
        "  print(S[i])"
      ],
      "metadata": {
        "colab": {
          "base_uri": "https://localhost:8080/"
        },
        "id": "JaYmbJ4Cem8B",
        "outputId": "83d66f02-1510-429f-a93f-32b7ae2716f4"
      },
      "execution_count": 9,
      "outputs": [
        {
          "output_type": "stream",
          "name": "stdout",
          "text": [
            "a\n",
            "b\n",
            "c\n"
          ]
        }
      ]
    },
    {
      "cell_type": "code",
      "source": [
        "# 리스트와 문자열 문법적으로 유사하게 생각"
      ],
      "metadata": {
        "id": "Bstl9j7vespp"
      },
      "execution_count": 10,
      "outputs": []
    },
    {
      "cell_type": "markdown",
      "source": [
        "# 문자열 슬라이싱"
      ],
      "metadata": {
        "id": "P_LP6xaNf7xx"
      }
    },
    {
      "cell_type": "code",
      "source": [
        "# 인덱스 없이 문자에 접근\n",
        "S = 'abcde'\n",
        "S[2:4]"
      ],
      "metadata": {
        "colab": {
          "base_uri": "https://localhost:8080/",
          "height": 36
        },
        "id": "Dppcar-KfuEU",
        "outputId": "081a6869-8bf3-4efd-95b4-661b2eeb216e"
      },
      "execution_count": 11,
      "outputs": [
        {
          "output_type": "execute_result",
          "data": {
            "text/plain": [
              "'cd'"
            ],
            "application/vnd.google.colaboratory.intrinsic+json": {
              "type": "string"
            }
          },
          "metadata": {},
          "execution_count": 11
        }
      ]
    },
    {
      "cell_type": "markdown",
      "source": [
        "# 실습 (주민등록번호)"
      ],
      "metadata": {
        "id": "YVzvvPOygW5g"
      }
    },
    {
      "cell_type": "code",
      "source": [
        "# id = input(\"주민번호를 XXXXXX-XXXXXXX 형태로 입력하시오.\")\n",
        "id = '250411-3111111' # 문자열\n",
        "\n",
        "if id[7] == '1' or id[7] == '3':\n",
        "  print(\"남자\")\n",
        "elif id[7] == '2' or id[7] =='4':\n",
        "  print(\"여자\")\n",
        "else:\n",
        "  print(\"잘못된 주민등록번호입니다.\")"
      ],
      "metadata": {
        "colab": {
          "base_uri": "https://localhost:8080/"
        },
        "id": "AkVyOCRGgEPw",
        "outputId": "da3f39ef-4e4b-42dc-b5bf-9d652ed829ca"
      },
      "execution_count": 17,
      "outputs": [
        {
          "output_type": "stream",
          "name": "stdout",
          "text": [
            "남자\n"
          ]
        }
      ]
    },
    {
      "cell_type": "code",
      "source": [
        "id = input(\"주민번호를 XXXXXX-XXXXXXX 형태로 입력하시오.\")\n",
        "\n",
        "if id[7] == '1' or id[7] == '3':\n",
        "  print(\"남자\")\n",
        "elif id[7] == '2' or id[7] =='4':\n",
        "  print(\"여자\")\n",
        "else:\n",
        "  print(\"잘못된 주민등록번호입니다.\")"
      ],
      "metadata": {
        "colab": {
          "base_uri": "https://localhost:8080/"
        },
        "id": "A--UxVS4ggOp",
        "outputId": "a43d6d0f-ed05-4310-ea06-17b202dec882"
      },
      "execution_count": 18,
      "outputs": [
        {
          "output_type": "stream",
          "name": "stdout",
          "text": [
            "주민번호를 XXXXXX-XXXXXXX 형태로 입력하시오.970223-2345678\n",
            "여자\n"
          ]
        }
      ]
    },
    {
      "cell_type": "markdown",
      "source": [
        "## 인덱스 없이 문자에 접근"
      ],
      "metadata": {
        "id": "X5wrJnr4iVPW"
      }
    },
    {
      "cell_type": "code",
      "source": [
        "S = 'abcde'\n",
        "print(S[1:-2])"
      ],
      "metadata": {
        "colab": {
          "base_uri": "https://localhost:8080/"
        },
        "id": "720IrmtgiFDS",
        "outputId": "cab50ee7-591a-444c-9903-b8de4a20130b"
      },
      "execution_count": 19,
      "outputs": [
        {
          "output_type": "stream",
          "name": "stdout",
          "text": [
            "bc\n"
          ]
        }
      ]
    },
    {
      "cell_type": "markdown",
      "source": [
        "## 입력받은 문자열을 s에 저장한 후 거꾸로 한 글자씩 출력해 보기"
      ],
      "metadata": {
        "id": "mBISvL-6iich"
      }
    },
    {
      "cell_type": "code",
      "source": [
        "s = input('문자열: ')\n",
        "for i in range(len(s)-1, -1, -1):\n",
        "  print(s[i], end='')"
      ],
      "metadata": {
        "colab": {
          "base_uri": "https://localhost:8080/"
        },
        "id": "tm1vslsUidce",
        "outputId": "7e68cfc4-ed7d-4be0-c569-4e9dc493804e"
      },
      "execution_count": 20,
      "outputs": [
        {
          "output_type": "stream",
          "name": "stdout",
          "text": [
            "문자열: 히라가나\n",
            "나가라히"
          ]
        }
      ]
    },
    {
      "cell_type": "markdown",
      "source": [
        "## 회문 판별하기"
      ],
      "metadata": {
        "id": "jj-QA0QZi6Sm"
      }
    },
    {
      "cell_type": "code",
      "source": [
        "s1 = input('문자열: ')\n",
        "s2 = ''\n",
        "\n",
        "for i in range(len(s1)-1, -1, -1):\n",
        "  s2 = s2 + s1[i]\n",
        "\n",
        "if s1 == s2:\n",
        "  print('회문')\n",
        "else:\n",
        "  print('회문 아님')"
      ],
      "metadata": {
        "colab": {
          "base_uri": "https://localhost:8080/"
        },
        "id": "nabbQGuYi21u",
        "outputId": "4dc18b84-505f-4984-c55d-1657924e2c0a"
      },
      "execution_count": 23,
      "outputs": [
        {
          "output_type": "stream",
          "name": "stdout",
          "text": [
            "문자열: aba\n",
            "회문\n"
          ]
        }
      ]
    },
    {
      "cell_type": "code",
      "source": [
        "# 문자열 변수 = 문자열 객체 변수\n",
        "# 문자열도 객체, 리스트도 객체"
      ],
      "metadata": {
        "id": "yQj5iMxkkYV6"
      },
      "execution_count": 24,
      "outputs": []
    },
    {
      "cell_type": "code",
      "source": [
        "a = ['hello', 'python']\n",
        "for i in a:\n",
        "    for j in i:\n",
        "        print(j)\n",
        "    print()"
      ],
      "metadata": {
        "colab": {
          "base_uri": "https://localhost:8080/"
        },
        "id": "1xNv9zAamUWT",
        "outputId": "2603f559-9576-40a5-92e3-801b517a1255"
      },
      "execution_count": 37,
      "outputs": [
        {
          "output_type": "stream",
          "name": "stdout",
          "text": [
            "h\n",
            "e\n",
            "l\n",
            "l\n",
            "o\n",
            "\n",
            "p\n",
            "y\n",
            "t\n",
            "h\n",
            "o\n",
            "n\n",
            "\n"
          ]
        }
      ]
    },
    {
      "cell_type": "code",
      "source": [
        "s1 = \"    Hi! python  \"\n",
        "s1.strip()"
      ],
      "metadata": {
        "colab": {
          "base_uri": "https://localhost:8080/",
          "height": 36
        },
        "id": "eCIvQ3lnm7Sm",
        "outputId": "eb99654e-4503-4f24-f8a2-958c551ef585"
      },
      "execution_count": 29,
      "outputs": [
        {
          "output_type": "execute_result",
          "data": {
            "text/plain": [
              "'Hi! python'"
            ],
            "application/vnd.google.colaboratory.intrinsic+json": {
              "type": "string"
            }
          },
          "metadata": {},
          "execution_count": 29
        }
      ]
    },
    {
      "cell_type": "code",
      "source": [
        "s1 = \"....Hi! python....\"\n",
        "s1.strip('.')"
      ],
      "metadata": {
        "colab": {
          "base_uri": "https://localhost:8080/",
          "height": 36
        },
        "id": "GaihGzdKnNrw",
        "outputId": "4148d56b-6129-4e4e-9df2-19e6fdaad672"
      },
      "execution_count": 30,
      "outputs": [
        {
          "output_type": "execute_result",
          "data": {
            "text/plain": [
              "'Hi! python'"
            ],
            "application/vnd.google.colaboratory.intrinsic+json": {
              "type": "string"
            }
          },
          "metadata": {},
          "execution_count": 30
        }
      ]
    },
    {
      "cell_type": "code",
      "source": [
        "s = '1234kg'\n",
        "print(s.rstrip('kg'))"
      ],
      "metadata": {
        "colab": {
          "base_uri": "https://localhost:8080/"
        },
        "id": "-5nbYaSgnWUB",
        "outputId": "a340884d-161b-4088-c910-cb9e793fb16a"
      },
      "execution_count": 31,
      "outputs": [
        {
          "output_type": "stream",
          "name": "stdout",
          "text": [
            "1234\n"
          ]
        }
      ]
    },
    {
      "cell_type": "code",
      "source": [
        "s = '####studen_name'\n",
        "print(s.lstrip('#'))"
      ],
      "metadata": {
        "colab": {
          "base_uri": "https://localhost:8080/"
        },
        "id": "Y_paFfSonbWH",
        "outputId": "fa56aabc-1804-4a42-c2c2-77fe3e5ede82"
      },
      "execution_count": 32,
      "outputs": [
        {
          "output_type": "stream",
          "name": "stdout",
          "text": [
            "studen_name\n"
          ]
        }
      ]
    },
    {
      "cell_type": "code",
      "source": [
        "# replace 는 2개의 값이 들어온다.\n",
        "s = 'KAIST, 제주대, 홍익대'\n",
        "print(s.replace('대', '대학교'))"
      ],
      "metadata": {
        "colab": {
          "base_uri": "https://localhost:8080/"
        },
        "id": "2X1L9l6mnlQj",
        "outputId": "000f7219-b452-46f6-ec96-1d90e5d90b83"
      },
      "execution_count": 33,
      "outputs": [
        {
          "output_type": "stream",
          "name": "stdout",
          "text": [
            "KAIST, 제주대학교, 홍익대학교\n"
          ]
        }
      ]
    },
    {
      "cell_type": "code",
      "source": [
        "s = 'KAIST, 제주대, 홍익대'\n",
        "print(s.split(','))"
      ],
      "metadata": {
        "colab": {
          "base_uri": "https://localhost:8080/"
        },
        "id": "jYuMGscsnugi",
        "outputId": "73b41feb-01df-4c74-acbd-a8b85639701f"
      },
      "execution_count": 38,
      "outputs": [
        {
          "output_type": "stream",
          "name": "stdout",
          "text": [
            "['KAIST', ' 제주대', ' 홍익대']\n"
          ]
        }
      ]
    },
    {
      "cell_type": "code",
      "source": [
        "l = ['KAIST', '제주대', '홍익대']\n",
        "print(','.join(l)) # join() 메서드는 따로 떨어진 문자열을 다시 하나의 문자열로 만든다."
      ],
      "metadata": {
        "colab": {
          "base_uri": "https://localhost:8080/"
        },
        "id": "ZR4mPwPUomM1",
        "outputId": "90a91256-b5e3-45ec-e85d-ea499b346565"
      },
      "execution_count": 41,
      "outputs": [
        {
          "output_type": "stream",
          "name": "stdout",
          "text": [
            "KAIST,제주대,홍익대\n"
          ]
        }
      ]
    },
    {
      "cell_type": "code",
      "source": [
        "# 주소 -> 시, 구로 나누기\n",
        "s = input(\"주소를 입력하세요. ex) '부산시 금정구': \")\n",
        "print(s.split(\" \"))"
      ],
      "metadata": {
        "colab": {
          "base_uri": "https://localhost:8080/"
        },
        "id": "aLJMkwKSoGbG",
        "outputId": "a577b387-4635-4274-8608-79b7fba276c1"
      },
      "execution_count": 40,
      "outputs": [
        {
          "output_type": "stream",
          "name": "stdout",
          "text": [
            "주소를 입력하세요. ex) '부산시 금정구': 부산시 금정구\n",
            "['부산시', '금정구']\n"
          ]
        }
      ]
    },
    {
      "cell_type": "code",
      "source": [
        "# 조건문 만들 때 주로 쓰는 함수\n",
        "print('1234kg'.isdigit())"
      ],
      "metadata": {
        "colab": {
          "base_uri": "https://localhost:8080/"
        },
        "id": "lVryF4p2pNei",
        "outputId": "6e676ab6-fd62-471e-e422-3fa78eec1d54"
      },
      "execution_count": 45,
      "outputs": [
        {
          "output_type": "stream",
          "name": "stdout",
          "text": [
            "False\n"
          ]
        }
      ]
    },
    {
      "cell_type": "code",
      "source": [
        "print('python'.isalpha())"
      ],
      "metadata": {
        "colab": {
          "base_uri": "https://localhost:8080/"
        },
        "id": "pgnrgZQ4prXz",
        "outputId": "88833223-a216-4770-e058-3d669d83fee0"
      },
      "execution_count": 46,
      "outputs": [
        {
          "output_type": "stream",
          "name": "stdout",
          "text": [
            "True\n"
          ]
        }
      ]
    },
    {
      "cell_type": "code",
      "source": [
        "print('pass123'.isalnum())"
      ],
      "metadata": {
        "colab": {
          "base_uri": "https://localhost:8080/"
        },
        "id": "aophdvvZpv01",
        "outputId": "841b91d3-bb5a-45c3-c6c5-015298ed424d"
      },
      "execution_count": 47,
      "outputs": [
        {
          "output_type": "stream",
          "name": "stdout",
          "text": [
            "True\n"
          ]
        }
      ]
    },
    {
      "cell_type": "code",
      "source": [
        "print('python'.islower())"
      ],
      "metadata": {
        "colab": {
          "base_uri": "https://localhost:8080/"
        },
        "id": "JSFme8p7p0sJ",
        "outputId": "d5b5ec39-8014-4da3-ad5b-a8856809b6ef"
      },
      "execution_count": 49,
      "outputs": [
        {
          "output_type": "stream",
          "name": "stdout",
          "text": [
            "True\n"
          ]
        }
      ]
    },
    {
      "cell_type": "code",
      "source": [
        "print('Python'.isupper())"
      ],
      "metadata": {
        "colab": {
          "base_uri": "https://localhost:8080/"
        },
        "id": "mei39fGsp7hG",
        "outputId": "80540f00-d455-47bd-b6b6-a8e22c1c5c60"
      },
      "execution_count": 51,
      "outputs": [
        {
          "output_type": "stream",
          "name": "stdout",
          "text": [
            "False\n"
          ]
        }
      ]
    },
    {
      "cell_type": "code",
      "source": [
        "print('.  '.isspace())"
      ],
      "metadata": {
        "colab": {
          "base_uri": "https://localhost:8080/"
        },
        "id": "aQd1NWW-qDI2",
        "outputId": "fdbf00ae-6a32-4302-8ce2-2325eee2f418"
      },
      "execution_count": 52,
      "outputs": [
        {
          "output_type": "stream",
          "name": "stdout",
          "text": [
            "False\n"
          ]
        }
      ]
    },
    {
      "cell_type": "markdown",
      "source": [
        "# 실습\n",
        "\n",
        "사용자로부터 비밀번호를 입력하시오 라는 프롬프트<br>\n",
        "문자와 숫자가 섞여있으면 통과<br>\n",
        "그렇지 않을 경우 다시 입력 받도록 프로그래밍"
      ],
      "metadata": {
        "id": "G4jQ5MgXqKfo"
      }
    },
    {
      "cell_type": "code",
      "source": [
        "num = input(\"비밀번호를 입력하시오: \")\n",
        "\n",
        "if num.isalnum():\n",
        "  print(\"통과\")\n",
        "else:\n",
        "  print(\"다시 입력하시오\")"
      ],
      "metadata": {
        "colab": {
          "base_uri": "https://localhost:8080/"
        },
        "id": "i-jbSHvbqHlf",
        "outputId": "9bbc8c85-5188-4001-f96d-e931cc7265fa"
      },
      "execution_count": 53,
      "outputs": [
        {
          "output_type": "stream",
          "name": "stdout",
          "text": [
            "비밀번호를 입력하시오: adsf1234\n",
            "통과\n"
          ]
        }
      ]
    },
    {
      "cell_type": "code",
      "source": [
        "while True:\n",
        "  num = input(\"비밀번호를 입력하시오: \")\n",
        "\n",
        "  if num.isalnum():\n",
        "    print(\"통과\")\n",
        "    break\n",
        "  else:\n",
        "    print(\"다시 입력하시오\")"
      ],
      "metadata": {
        "colab": {
          "base_uri": "https://localhost:8080/"
        },
        "id": "Zwx62Fzpq8T2",
        "outputId": "c3f65e0a-b0d0-4697-c0b6-b8b3271b84de"
      },
      "execution_count": 58,
      "outputs": [
        {
          "output_type": "stream",
          "name": "stdout",
          "text": [
            "비밀번호를 입력하시오: '';\n",
            "다시 입력하시오\n",
            "비밀번호를 입력하시오: 122\n",
            "통과\n"
          ]
        }
      ]
    },
    {
      "cell_type": "code",
      "source": [
        "num = input(\"비밀번호를 입력하시오: \")\n",
        "\n",
        "has_letter = False\n",
        "has_digit = False\n",
        "\n",
        "for char in num:\n",
        "    if char.isalpha():\n",
        "        has_letter = True\n",
        "    if char.isdigit():\n",
        "        has_digit = True\n",
        "\n",
        "if has_letter and has_digit:\n",
        "    print(\"통과\")\n",
        "else:\n",
        "    print(\"다시 입력하시오\")"
      ],
      "metadata": {
        "colab": {
          "base_uri": "https://localhost:8080/"
        },
        "id": "TjvFd0vkrnMk",
        "outputId": "4ce93353-b815-4704-fbf6-123aca7d2041"
      },
      "execution_count": 59,
      "outputs": [
        {
          "output_type": "stream",
          "name": "stdout",
          "text": [
            "비밀번호를 입력하시오: 122222ㅓㅏㅣ\n",
            "통과\n"
          ]
        }
      ]
    },
    {
      "cell_type": "code",
      "source": [],
      "metadata": {
        "id": "ZGLSbZBYsOdr"
      },
      "execution_count": null,
      "outputs": []
    },
    {
      "cell_type": "markdown",
      "source": [
        "# 리스트와 튜플은 값만 있음, 딕셔너리는 키와 값 둘 다 가지고 있음<br>\n",
        "# 고유하다 = 누구나 다 가지고 있고, 중복되지 않는다.\n",
        "# 딕셔너리에서는 키는 고유하고 값은 고유하지 않다.\n",
        "# 딕셔너리를 만들 땐 중괄호 {} 를 쓴다.\n",
        "# 딕셔너리는 키가 추가 된 리스트, 튜플도 리스트, 리스트도 리스트."
      ],
      "metadata": {
        "id": "Zv95IWHfs2vv"
      }
    },
    {
      "cell_type": "code",
      "source": [
        "# 빈 딕셔너리 만들기\n",
        "빈_딕셔너리 = {}\n",
        "다른_빈_딕셔너리 = dict()"
      ],
      "metadata": {
        "id": "a_9_1sOAs6jI"
      },
      "execution_count": 60,
      "outputs": []
    },
    {
      "cell_type": "code",
      "source": [
        "A = dict(이름 = '이영희', 나이 = 22, 학과 = '수의학과', 학점 = 4.0)"
      ],
      "metadata": {
        "id": "YC8gYJIttcYQ"
      },
      "execution_count": 63,
      "outputs": []
    },
    {
      "cell_type": "code",
      "source": [
        "A"
      ],
      "metadata": {
        "colab": {
          "base_uri": "https://localhost:8080/"
        },
        "id": "H5V4gflLtnHw",
        "outputId": "d54364be-939a-49e4-8348-75c22a82af33"
      },
      "execution_count": 64,
      "outputs": [
        {
          "output_type": "execute_result",
          "data": {
            "text/plain": [
              "{'이름': '이영희', '나이': 22, '학과': '수의학과', '학점': 4.0}"
            ]
          },
          "metadata": {},
          "execution_count": 64
        }
      ]
    },
    {
      "cell_type": "code",
      "source": [
        "# 키를 사용하여 값에 접근하기\n",
        "이름 = A['이름']\n",
        "이름"
      ],
      "metadata": {
        "colab": {
          "base_uri": "https://localhost:8080/",
          "height": 36
        },
        "id": "1pRP2m5PtnhI",
        "outputId": "c292b6b6-408c-4d58-9449-dae134b0ff4f"
      },
      "execution_count": 66,
      "outputs": [
        {
          "output_type": "execute_result",
          "data": {
            "text/plain": [
              "'이영희'"
            ],
            "application/vnd.google.colaboratory.intrinsic+json": {
              "type": "string"
            }
          },
          "metadata": {},
          "execution_count": 66
        }
      ]
    },
    {
      "cell_type": "code",
      "source": [
        "# get() 메서드 사용하기 (키가 없어도 에러가 발생하지 않음)\n",
        "전화번호 = A.get(\"전화번호\")"
      ],
      "metadata": {
        "id": "9FpDyjSutwoI"
      },
      "execution_count": 68,
      "outputs": []
    },
    {
      "cell_type": "code",
      "source": [
        "A.update({\"나이\": 22, \"phone number\": \"010-2222-2222\", \"주소\": \"서울시\"})"
      ],
      "metadata": {
        "id": "AziqacUkt5gk"
      },
      "execution_count": 69,
      "outputs": []
    },
    {
      "cell_type": "code",
      "source": [
        "A"
      ],
      "metadata": {
        "colab": {
          "base_uri": "https://localhost:8080/"
        },
        "id": "mnp1OHBduRu2",
        "outputId": "f0aa347f-cf2d-4730-d8f9-7cf4778aaa4e"
      },
      "execution_count": 70,
      "outputs": [
        {
          "output_type": "execute_result",
          "data": {
            "text/plain": [
              "{'이름': '이영희',\n",
              " '나이': 22,\n",
              " '학과': '수의학과',\n",
              " '학점': 4.0,\n",
              " 'phone number': '010-2222-2222',\n",
              " '주소': '서울시'}"
            ]
          },
          "metadata": {},
          "execution_count": 70
        }
      ]
    },
    {
      "cell_type": "code",
      "source": [
        "all_keys = A.keys()\n",
        "all_keys"
      ],
      "metadata": {
        "colab": {
          "base_uri": "https://localhost:8080/"
        },
        "id": "Sravdql8uSXp",
        "outputId": "197d9d89-8d22-4d1a-9415-b575807ee66b"
      },
      "execution_count": 72,
      "outputs": [
        {
          "output_type": "execute_result",
          "data": {
            "text/plain": [
              "dict_keys(['이름', '나이', '학과', '학점', 'phone number', '주소'])"
            ]
          },
          "metadata": {},
          "execution_count": 72
        }
      ]
    },
    {
      "cell_type": "code",
      "source": [
        "all_values = A.values()\n",
        "all_values"
      ],
      "metadata": {
        "colab": {
          "base_uri": "https://localhost:8080/"
        },
        "id": "oM19xCTGuqSR",
        "outputId": "48774ec1-a669-4fd6-af1e-2adaf46a81f0"
      },
      "execution_count": 73,
      "outputs": [
        {
          "output_type": "execute_result",
          "data": {
            "text/plain": [
              "dict_values(['이영희', 22, '수의학과', 4.0, '010-2222-2222', '서울시'])"
            ]
          },
          "metadata": {},
          "execution_count": 73
        }
      ]
    },
    {
      "cell_type": "code",
      "source": [
        "길이 = len(A)\n",
        "길이"
      ],
      "metadata": {
        "colab": {
          "base_uri": "https://localhost:8080/"
        },
        "id": "BFAzNTScuvnL",
        "outputId": "f2ea5c38-547f-49a2-b75d-a13c07232ec6"
      },
      "execution_count": 75,
      "outputs": [
        {
          "output_type": "execute_result",
          "data": {
            "text/plain": [
              "6"
            ]
          },
          "metadata": {},
          "execution_count": 75
        }
      ]
    },
    {
      "cell_type": "code",
      "source": [
        "for key in A:\n",
        "  print(key)"
      ],
      "metadata": {
        "colab": {
          "base_uri": "https://localhost:8080/"
        },
        "id": "uBGiX1hJuz4f",
        "outputId": "5452fd0f-a31e-46c2-9a7e-27bc1d5fc384"
      },
      "execution_count": 76,
      "outputs": [
        {
          "output_type": "stream",
          "name": "stdout",
          "text": [
            "이름\n",
            "나이\n",
            "학과\n",
            "학점\n",
            "phone number\n",
            "주소\n"
          ]
        }
      ]
    },
    {
      "cell_type": "code",
      "source": [
        "for value in A.values():\n",
        "  print(value)"
      ],
      "metadata": {
        "colab": {
          "base_uri": "https://localhost:8080/"
        },
        "id": "PYt24FVIvAAP",
        "outputId": "acba0ba0-ad76-44f6-888d-201b9bd87966"
      },
      "execution_count": 77,
      "outputs": [
        {
          "output_type": "stream",
          "name": "stdout",
          "text": [
            "이영희\n",
            "22\n",
            "수의학과\n",
            "4.0\n",
            "010-2222-2222\n",
            "서울시\n"
          ]
        }
      ]
    },
    {
      "cell_type": "code",
      "source": [
        "for key, value in A.items():\n",
        "  print(f\"{key} : {value}\")"
      ],
      "metadata": {
        "colab": {
          "base_uri": "https://localhost:8080/"
        },
        "id": "fmV-Ymx2vFV_",
        "outputId": "42d5b14e-6ac2-4bd3-802b-e3fb2406c683"
      },
      "execution_count": 78,
      "outputs": [
        {
          "output_type": "stream",
          "name": "stdout",
          "text": [
            "이름 : 이영희\n",
            "나이 : 22\n",
            "학과 : 수의학과\n",
            "학점 : 4.0\n",
            "phone number : 010-2222-2222\n",
            "주소 : 서울시\n"
          ]
        }
      ]
    },
    {
      "cell_type": "code",
      "source": [],
      "metadata": {
        "id": "8NRWt3-fvPLo"
      },
      "execution_count": null,
      "outputs": []
    }
  ]
}