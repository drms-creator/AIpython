{
  "nbformat": 4,
  "nbformat_minor": 0,
  "metadata": {
    "colab": {
      "provenance": [],
      "authorship_tag": "ABX9TyMnA+BLCvBnYF7OHFVT9zY5",
      "include_colab_link": true
    },
    "kernelspec": {
      "name": "python3",
      "display_name": "Python 3"
    },
    "language_info": {
      "name": "python"
    }
  },
  "cells": [
    {
      "cell_type": "markdown",
      "metadata": {
        "id": "view-in-github",
        "colab_type": "text"
      },
      "source": [
        "<a href=\"https://colab.research.google.com/github/drms-creator/AIpython/blob/main/250404.ipynb\" target=\"_parent\"><img src=\"https://colab.research.google.com/assets/colab-badge.svg\" alt=\"Open In Colab\"/></a>"
      ]
    },
    {
      "cell_type": "markdown",
      "source": [
        "# 온도 변환기"
      ],
      "metadata": {
        "id": "ukwTXXKkbxpd"
      }
    },
    {
      "cell_type": "code",
      "execution_count": 5,
      "metadata": {
        "colab": {
          "base_uri": "https://localhost:8080/"
        },
        "id": "HXk77BHaVEle",
        "outputId": "40ffee65-2a99-44b1-bbc7-d553e5d0c281"
      },
      "outputs": [
        {
          "output_type": "stream",
          "name": "stdout",
          "text": [
            "이름: Alice, 나이: 30, 점수: 95.500000\n"
          ]
        }
      ],
      "source": [
        "# 플러스 예제 (3.5)\n",
        "# 화씨온도 = 섭씨온도 x 9/5 + 32\n",
        "# 제일 우선적인 연산과정 : 1. 괄호\n",
        "# 2. 곱하기, 나누기\n",
        "# 3. 더하기, 빼기\n",
        "# celsius\n",
        "# fahrenheit\n",
        "# %: 문자열 포맷팅, %라는 연산자를 사용하여 값을 내가 원하는 방식으로 출력\n",
        "# 변환 지정자 : %s, %d, %f\n",
        "# 변환 지정자가 3개면 변수도 3개 나와야함! (갯수 동일)\n",
        "\n",
        "name = \"Alice\"\n",
        "age = 30\n",
        "score = 95.5\n",
        "\n",
        "print(\"이름: %s, 나이: %d, 점수: %f\" %(name, age, score))"
      ]
    },
    {
      "cell_type": "code",
      "source": [
        "pi = 3.141592\n",
        "\n",
        "print(\"원주율: %.2f\" % pi) # 소수점 둘째 자리까지 출력 : 원주율 3.14\n",
        "print(\"원주율: %10.2f\" % pi) #전체 너비 10, 소수점 둘째 자리:\n",
        "print(\"원주율: %010.2f\" % pi) # 0을 채워서"
      ],
      "metadata": {
        "colab": {
          "base_uri": "https://localhost:8080/"
        },
        "id": "QPPW5ar2ZnWp",
        "outputId": "d2aa7d05-3af3-4f84-c1c4-c4852ee329d6"
      },
      "execution_count": 7,
      "outputs": [
        {
          "output_type": "stream",
          "name": "stdout",
          "text": [
            "원주율: 3.14\n",
            "원주율:       3.14\n",
            "원주율: 0000003.14\n"
          ]
        }
      ]
    },
    {
      "cell_type": "code",
      "source": [
        "kind = input(\"온도 종류(섭씨 또는 화씨): \")\n",
        "temp = int(input(kind + \" 온도: \"))\n",
        "\n",
        "if kind == '섭씨':\n",
        "  print(f\"화씨 온도 {temp * 9/5 + 32 :.2f}\")\n",
        "else:\n",
        "  print(f\"섭씨 온도 {(temp - 32) * 5/9 :.2f}\")"
      ],
      "metadata": {
        "colab": {
          "base_uri": "https://localhost:8080/"
        },
        "id": "3omB2XdFW156",
        "outputId": "3419cebd-ffff-4192-f9c9-c0ac44ae51bb"
      },
      "execution_count": 9,
      "outputs": [
        {
          "output_type": "stream",
          "name": "stdout",
          "text": [
            "온도 종류(섭씨 또는 화씨): 화씨\n",
            "화씨 온도: 68\n",
            "섭씨 온도 20.00\n"
          ]
        }
      ]
    },
    {
      "cell_type": "code",
      "source": [
        "kind = input(\"온도 종류(섭씨 또는 화씨): \")\n",
        "temp = int(input(kind + \" 온도: \"))\n",
        "\n",
        "if kind == '섭씨':\n",
        "  celsius = temp * 9/5 + 32\n",
        "  print(\"화씨 온도: %.2f\" % celsius)\n",
        "else:\n",
        "  fahrenheit = (temp - 32) * 5/9\n",
        "  print(\"섭씨 온도: %.2f\" % fahrenheit)"
      ],
      "metadata": {
        "colab": {
          "base_uri": "https://localhost:8080/"
        },
        "id": "iRswC9LMa7h8",
        "outputId": "1ca81994-ed1c-42b6-d37c-5a919f6bb908"
      },
      "execution_count": 10,
      "outputs": [
        {
          "output_type": "stream",
          "name": "stdout",
          "text": [
            "온도 종류(섭씨 또는 화씨): 화씨\n",
            "화씨 온도: 68\n",
            "섭씨 온도: 20.00\n"
          ]
        }
      ]
    },
    {
      "cell_type": "markdown",
      "source": [
        "# 숫자 맞히기 게임"
      ],
      "metadata": {
        "id": "hbGJEcrKb3Y5"
      }
    },
    {
      "cell_type": "code",
      "source": [
        "# 내장 모듈 : 파이썬에 기본적으로 포함된 모듈입니다. (예: math, random)\n",
        "# 외부 모듈 : 다른 사람들이 만들어서 공유하는 모듈입니다. (예: pandas, numpy)"
      ],
      "metadata": {
        "id": "AcIyLaN5btUc"
      },
      "execution_count": 11,
      "outputs": []
    },
    {
      "cell_type": "code",
      "source": [
        "# random : 난수 생성 모듈\n",
        "# random.randint => random 안에 있는 함수 randint를 사용하겠다.\n",
        "# random(): 0.0 이상 1.0 미만의 random한 실수를 반환\n",
        "# randint(a, b): a 이상 b 이하의 랜덤한 정수 반환\n",
        "# while True : 무한 반복\n",
        "\n",
        "import random\n",
        "\n",
        "print(\"1부터 100까지의 수 하나를 정했습니다.\")\n",
        "print(\"이 숫자를 맞혀보세요.\")\n",
        "\n",
        "answer = random.randint(1,100)\n",
        "print(\"정답은\",answer, \"(릴리즈 시 삭제)\")\n",
        "times = 0\n",
        "\n",
        "while True:\n",
        "  user = int(input(\"1~100 숫자 입력: \"))\n",
        "  times += 1\n",
        "\n",
        "  if user == answer:\n",
        "    break\n",
        "  elif user < answer:\n",
        "    print(f\"{user}보다 큽니다.\")\n",
        "  else:\n",
        "    print(f\"{user}보다 작습니다.\")\n",
        "\n",
        "print(f\"정답입니다! {times}회 만에 맞혔습니다.\")"
      ],
      "metadata": {
        "colab": {
          "base_uri": "https://localhost:8080/"
        },
        "id": "pY1kmW7Mcixw",
        "outputId": "cfaf8693-6286-4d07-9fe0-861cb823a152"
      },
      "execution_count": 20,
      "outputs": [
        {
          "output_type": "stream",
          "name": "stdout",
          "text": [
            "1부터 100까지의 수 하나를 정했습니다.\n",
            "이 숫자를 맞혀보세요.\n",
            "정답은 97 (릴리즈 시 삭제)\n",
            "1~100 숫자 입력: 70\n",
            "70보다 큽니다.\n",
            "1~100 숫자 입력: 90\n",
            "90보다 큽니다.\n",
            "1~100 숫자 입력: 96\n",
            "96보다 큽니다.\n",
            "1~100 숫자 입력: 99\n",
            "99보다 작습니다.\n",
            "1~100 숫자 입력: 97\n",
            "정답입니다! 5회 만에 맞혔습니다.\n"
          ]
        }
      ]
    },
    {
      "cell_type": "code",
      "source": [
        "# 리스트를 만들면 자동적으로 위치 정보가 생김 (인덱스를 이용하여 지정)\n",
        "# 리스트 명과 인덱스를 써서 아이템을 지정\n",
        "# 인덱스 지정 시 대괄호 쓰기\n",
        "# -1 : 제일 마지막 인덱스\n",
        "# 0 : 제일 첫번째 인덱스"
      ],
      "metadata": {
        "id": "M7nR38q5fNOK"
      },
      "execution_count": null,
      "outputs": []
    },
    {
      "cell_type": "markdown",
      "source": [
        "# 리스트 자르기 (슬라이싱)"
      ],
      "metadata": {
        "id": "WjTY6Jfii2rJ"
      }
    },
    {
      "cell_type": "code",
      "source": [
        "nums = [0,1,2,3,4,5,6,7,8,9]\n",
        "seg = nums[2:5]\n",
        "\n",
        "처음부터 = nums[:4]\n",
        "건너뛰기 = nums[::2]\n",
        "역순 = nums[::-1]"
      ],
      "metadata": {
        "id": "wWeLr0uDi3UU"
      },
      "execution_count": 23,
      "outputs": []
    },
    {
      "cell_type": "markdown",
      "source": [
        "# 리스트 수정하기"
      ],
      "metadata": {
        "id": "CacIG8PUjzq3"
      }
    },
    {
      "cell_type": "code",
      "source": [
        "과일 = [\"사과\", \"바나나\", \"딸기\"]\n",
        "과일.append(\"포도\")\n",
        "과일"
      ],
      "metadata": {
        "colab": {
          "base_uri": "https://localhost:8080/"
        },
        "id": "KcPHfjBAjLCK",
        "outputId": "d7c7335c-a0b9-493f-9bdb-37596765bf95"
      },
      "execution_count": 25,
      "outputs": [
        {
          "output_type": "execute_result",
          "data": {
            "text/plain": [
              "['사과', '바나나', '딸기', '포도']"
            ]
          },
          "metadata": {},
          "execution_count": 25
        }
      ]
    },
    {
      "cell_type": "code",
      "source": [
        "과일.extend([\"망고\", \"수박\"])\n",
        "과일"
      ],
      "metadata": {
        "colab": {
          "base_uri": "https://localhost:8080/"
        },
        "id": "Hi9HClhcj-5b",
        "outputId": "58ae7e65-c59e-4ff0-9d0b-a12860b071f2"
      },
      "execution_count": 26,
      "outputs": [
        {
          "output_type": "execute_result",
          "data": {
            "text/plain": [
              "['사과', '바나나', '딸기', '포도', '망고', '수박']"
            ]
          },
          "metadata": {},
          "execution_count": 26
        }
      ]
    },
    {
      "cell_type": "code",
      "source": [
        "과일.insert(1, \"오렌지\")\n",
        "과일"
      ],
      "metadata": {
        "colab": {
          "base_uri": "https://localhost:8080/"
        },
        "id": "CEE8HPnSkWip",
        "outputId": "91542ed7-99b9-4170-bbbf-9f0d8ffee8f5"
      },
      "execution_count": 29,
      "outputs": [
        {
          "output_type": "execute_result",
          "data": {
            "text/plain": [
              "['사과', '오렌지', '오렌지', '바나나', '딸기', '포도', '망고', '수박']"
            ]
          },
          "metadata": {},
          "execution_count": 29
        }
      ]
    },
    {
      "cell_type": "code",
      "source": [
        "import random\n",
        "\n",
        "lotto_1 = []\n",
        "# 1~45 숫자 중 6가지 숫자 뽑기\n",
        "\n",
        "for i in range(6):\n",
        "  lotto_1.append(random.randint(1,45))\n",
        "\n",
        "lotto_1\n",
        "\n",
        "# 위 코드는 lotto 번호가 중복될 가능성 있음"
      ],
      "metadata": {
        "colab": {
          "base_uri": "https://localhost:8080/"
        },
        "id": "WbunYcjlkJuS",
        "outputId": "4e7f1f1d-e780-4874-a2b4-8cacc90bd00f"
      },
      "execution_count": 32,
      "outputs": [
        {
          "output_type": "execute_result",
          "data": {
            "text/plain": [
              "[15, 16, 39, 22, 13, 23]"
            ]
          },
          "metadata": {},
          "execution_count": 32
        }
      ]
    },
    {
      "cell_type": "code",
      "source": [
        "lotto_2 = []\n",
        "\n",
        "while len(lotto_2) < 6:\n",
        "  num = random.randint(1,45)\n",
        "  if num not in lotto_2:\n",
        "    lotto_2.append(num)\n",
        "\n",
        "print(lotto_2)"
      ],
      "metadata": {
        "colab": {
          "base_uri": "https://localhost:8080/"
        },
        "id": "SFuqV0NakyJg",
        "outputId": "d83d6ee4-3e18-49d7-d28f-442676185fa1"
      },
      "execution_count": 34,
      "outputs": [
        {
          "output_type": "stream",
          "name": "stdout",
          "text": [
            "[33, 29, 26, 13, 10, 25]\n"
          ]
        }
      ]
    },
    {
      "cell_type": "markdown",
      "source": [
        "# 리스트에서 항목 제거하기"
      ],
      "metadata": {
        "id": "wFk2JG--q3eS"
      }
    },
    {
      "cell_type": "code",
      "source": [
        "# 함수\n",
        "# 함수명(매개변수)\n",
        "\n",
        "과일 = ['사과', '오렌지', '오렌지', '바나나', '딸기', '포도']"
      ],
      "metadata": {
        "id": "5qwj5hfFmHxO"
      },
      "execution_count": 39,
      "outputs": []
    },
    {
      "cell_type": "code",
      "source": [
        "마지막_과일 = 과일.pop()\n",
        "마지막_과일"
      ],
      "metadata": {
        "colab": {
          "base_uri": "https://localhost:8080/",
          "height": 36
        },
        "id": "a8dFKHaKrQoK",
        "outputId": "bb7e2b47-e11d-4cd0-92c1-d193879b4da9"
      },
      "execution_count": 40,
      "outputs": [
        {
          "output_type": "execute_result",
          "data": {
            "text/plain": [
              "'포도'"
            ],
            "application/vnd.google.colaboratory.intrinsic+json": {
              "type": "string"
            }
          },
          "metadata": {},
          "execution_count": 40
        }
      ]
    },
    {
      "cell_type": "code",
      "source": [
        "숫자 = [1,2,3,4,5]\n",
        "길이 = len(숫자)\n",
        "길이"
      ],
      "metadata": {
        "colab": {
          "base_uri": "https://localhost:8080/"
        },
        "id": "FrJV103arT10",
        "outputId": "56e8f5f0-0606-4386-b77e-885df70b7a4e"
      },
      "execution_count": 42,
      "outputs": [
        {
          "output_type": "execute_result",
          "data": {
            "text/plain": [
              "5"
            ]
          },
          "metadata": {},
          "execution_count": 42
        }
      ]
    },
    {
      "cell_type": "code",
      "source": [],
      "metadata": {
        "id": "nt_rnNGOsIUU"
      },
      "execution_count": null,
      "outputs": []
    },
    {
      "cell_type": "markdown",
      "source": [
        "# 메서드 vs 함수"
      ],
      "metadata": {
        "id": "5iyrxxtBsNoD"
      }
    },
    {
      "cell_type": "markdown",
      "source": [
        "메서드 (Method)\n",
        "\n",
        "객체 지향 프로그래밍에서 사용됩니다<br>\n",
        "클래스나 객체에 종속되어 있습니다<br>\n",
        "객체의 상태(데이터)를 조작하거나 행동을 정의합니다<br>\n",
        "호출 시 객체의 컨텍스트 내에서 실행됩니다 (보통 객체.메서드() 형태로 호출)<br>\n",
        "this 또는 self 키워드로 자신이 속한 객체를 참조할 수 있습니다<br><br>\n",
        "\n",
        "ex) 객체.method 형태 <br>\n",
        "앞에 .이 있으면 무조건 메서드<br>\n",
        "과일.pop(), .append()에서 과일이 객체, pop,append은 메서드\n",
        "\n",
        "\n",
        "함수 (Function)<br><br>\n",
        "\n",
        "독립적으로 존재합니다<br>\n",
        "특정 객체에 종속되지 않습니다<br>\n",
        "입력을 받아 처리하고 결과를 반환하는 코드 블록입니다<br>\n",
        "전역 범위 또는 특정 스코프 내에서 직접 호출됩니다 (함수() 형태로 호출)<br>\n",
        "자신이 속한 객체의 개념이 없습니다<br>\n",
        "\n",
        "ex) len(), print(), sum()"
      ],
      "metadata": {
        "id": "_MdRSzUFsXYo"
      }
    },
    {
      "cell_type": "code",
      "source": [
        "숫자 = [3,1,5,1,3,5,6,9]\n",
        "\n",
        "print(숫자.sort())"
      ],
      "metadata": {
        "colab": {
          "base_uri": "https://localhost:8080/"
        },
        "id": "vYtf_2k3sO8L",
        "outputId": "a1070fec-8245-4161-e29d-8290e9f701c9"
      },
      "execution_count": 44,
      "outputs": [
        {
          "output_type": "stream",
          "name": "stdout",
          "text": [
            "None\n"
          ]
        }
      ]
    },
    {
      "cell_type": "markdown",
      "source": [
        "# sort() vs sorted()\n",
        "\n",
        "sort는 원본을 정렬<br>\n",
        "sorted는 원본을 바꾸지 않음"
      ],
      "metadata": {
        "id": "vJQ-3imstQpL"
      }
    },
    {
      "cell_type": "code",
      "source": [
        "성적 = [85, 92, 78, 90, 87]\n",
        "평균 = sum(성적) / len(성적)\n",
        "평균"
      ],
      "metadata": {
        "colab": {
          "base_uri": "https://localhost:8080/"
        },
        "id": "1PhuEi6OtKXc",
        "outputId": "907a9612-1bc8-4477-efa2-edd707fc366f"
      },
      "execution_count": 45,
      "outputs": [
        {
          "output_type": "execute_result",
          "data": {
            "text/plain": [
              "86.4"
            ]
          },
          "metadata": {},
          "execution_count": 45
        }
      ]
    },
    {
      "cell_type": "code",
      "source": [
        "sum = 0\n",
        "count = 0\n",
        "for i in 성적:\n",
        "  sum += int(i)\n",
        "  count += 1\n",
        "\n",
        "평균 = sum / count\n",
        "평균"
      ],
      "metadata": {
        "colab": {
          "base_uri": "https://localhost:8080/"
        },
        "id": "G-aUjL-dt6db",
        "outputId": "1885b23e-2772-40dc-9b9b-df9d96976463"
      },
      "execution_count": 55,
      "outputs": [
        {
          "output_type": "execute_result",
          "data": {
            "text/plain": [
              "86.4"
            ]
          },
          "metadata": {},
          "execution_count": 55
        }
      ]
    },
    {
      "cell_type": "code",
      "source": [
        "학생들 = [(\"철수\")]"
      ],
      "metadata": {
        "colab": {
          "base_uri": "https://localhost:8080/"
        },
        "id": "sfSoJCGuvtUF",
        "outputId": "2f77952c-97f6-4577-fe1d-9078d0a0306a"
      },
      "execution_count": 54,
      "outputs": [
        {
          "output_type": "execute_result",
          "data": {
            "text/plain": [
              "86.4"
            ]
          },
          "metadata": {},
          "execution_count": 54
        }
      ]
    },
    {
      "cell_type": "code",
      "source": [
        "숫자들 = [1,2,2,3,4,4,5,5,5]\n",
        "num_2 = 숫자들.count(2)\n",
        "num_2"
      ],
      "metadata": {
        "colab": {
          "base_uri": "https://localhost:8080/"
        },
        "id": "PY_nUCxswV_f",
        "outputId": "2a87aee2-f727-4451-acbf-453700245ecb"
      },
      "execution_count": 58,
      "outputs": [
        {
          "output_type": "execute_result",
          "data": {
            "text/plain": [
              "2"
            ]
          },
          "metadata": {},
          "execution_count": 58
        }
      ]
    },
    {
      "cell_type": "code",
      "source": [
        "숫자들 = [1,2,2,3,4,4,5,5,5]\n",
        "중복제거 = list(set(숫자들))\n",
        "중복제거"
      ],
      "metadata": {
        "colab": {
          "base_uri": "https://localhost:8080/"
        },
        "id": "CB0l2qq5uhF1",
        "outputId": "63c197df-c2a2-4bb5-e8ec-8efe1a25becc"
      },
      "execution_count": 57,
      "outputs": [
        {
          "output_type": "execute_result",
          "data": {
            "text/plain": [
              "[1, 2, 3, 4, 5]"
            ]
          },
          "metadata": {},
          "execution_count": 57
        }
      ]
    },
    {
      "cell_type": "markdown",
      "source": [
        "# 문제 1"
      ],
      "metadata": {
        "id": "IzTeDaNNwrBJ"
      }
    },
    {
      "cell_type": "code",
      "source": [
        "# 문제 1: 리스트 생성 및 요소 접근\n",
        "fruits = [\"사과\", \"바나나\", \"딸기\", \"포도\"]\n",
        "print(f\"과일 리스트: {fruits}\")"
      ],
      "metadata": {
        "colab": {
          "base_uri": "https://localhost:8080/"
        },
        "id": "o9Fd4TOVwSmF",
        "outputId": "023a5496-9228-49d3-e106-9de30129bfe3"
      },
      "execution_count": 60,
      "outputs": [
        {
          "output_type": "stream",
          "name": "stdout",
          "text": [
            "과일 리스트: ['사과', '바나나', '딸기', '포도']\n"
          ]
        }
      ]
    },
    {
      "cell_type": "code",
      "source": [
        "print(f\"첫번째 과일: {fruits[0]}\")\n",
        "print(f\"마지막 과일: {fruits[-1]}\")"
      ],
      "metadata": {
        "colab": {
          "base_uri": "https://localhost:8080/"
        },
        "id": "kxDuHSWlwoLP",
        "outputId": "10a33cbd-cd95-41ee-ea22-459402600fa0"
      },
      "execution_count": 65,
      "outputs": [
        {
          "output_type": "stream",
          "name": "stdout",
          "text": [
            "첫번째 과일: 사과\n",
            "마지막 과일: 포도\n"
          ]
        }
      ]
    },
    {
      "cell_type": "code",
      "source": [
        "마지막_과일 = fruits.pop()"
      ],
      "metadata": {
        "id": "I5lea7bmxB2D"
      },
      "execution_count": 66,
      "outputs": []
    },
    {
      "cell_type": "code",
      "source": [
        "fruits.remove(\"바나나\")"
      ],
      "metadata": {
        "id": "1SXtlP4FxY0k"
      },
      "execution_count": 67,
      "outputs": []
    },
    {
      "cell_type": "code",
      "source": [
        "fruits"
      ],
      "metadata": {
        "colab": {
          "base_uri": "https://localhost:8080/"
        },
        "id": "Xtnb0L9NxeFD",
        "outputId": "b81935fa-e78e-4fbd-8d77-17690f7670eb"
      },
      "execution_count": 69,
      "outputs": [
        {
          "output_type": "execute_result",
          "data": {
            "text/plain": [
              "['사과', '딸기']"
            ]
          },
          "metadata": {},
          "execution_count": 69
        }
      ]
    },
    {
      "cell_type": "code",
      "source": [],
      "metadata": {
        "id": "lkZn7JAwxe25"
      },
      "execution_count": null,
      "outputs": []
    },
    {
      "cell_type": "markdown",
      "source": [
        "# 문제 3: 리스트 요소 순회하며 출력"
      ],
      "metadata": {
        "id": "W50zLVr8xkK-"
      }
    },
    {
      "cell_type": "code",
      "source": [
        "numbers = [1, 5, 12, 8, 21]\n",
        "print(\"숫자 리스트의 요소:\")\n",
        "for num in numbers:\n",
        "  print(num)"
      ],
      "metadata": {
        "colab": {
          "base_uri": "https://localhost:8080/"
        },
        "id": "VL6wKKbAxmaB",
        "outputId": "ffb4f4da-90b6-4139-e601-2663eeddf752"
      },
      "execution_count": 70,
      "outputs": [
        {
          "output_type": "stream",
          "name": "stdout",
          "text": [
            "숫자 리스트의 요소:\n",
            "1\n",
            "5\n",
            "12\n",
            "8\n",
            "21\n"
          ]
        }
      ]
    },
    {
      "cell_type": "code",
      "source": [],
      "metadata": {
        "id": "kjmz2EsOx3Og"
      },
      "execution_count": null,
      "outputs": []
    }
  ]
}