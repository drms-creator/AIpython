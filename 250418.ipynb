{
  "nbformat": 4,
  "nbformat_minor": 0,
  "metadata": {
    "colab": {
      "provenance": [],
      "authorship_tag": "ABX9TyMlg5nC9cs7HN0OLeTEuNhg",
      "include_colab_link": true
    },
    "kernelspec": {
      "name": "python3",
      "display_name": "Python 3"
    },
    "language_info": {
      "name": "python"
    }
  },
  "cells": [
    {
      "cell_type": "markdown",
      "metadata": {
        "id": "view-in-github",
        "colab_type": "text"
      },
      "source": [
        "<a href=\"https://colab.research.google.com/github/drms-creator/AIpython/blob/main/250418.ipynb\" target=\"_parent\"><img src=\"https://colab.research.google.com/assets/colab-badge.svg\" alt=\"Open In Colab\"/></a>"
      ]
    },
    {
      "cell_type": "markdown",
      "source": [
        "# 키는 중복이 불가능하지만, value는 중복이 된다."
      ],
      "metadata": {
        "id": "uHdtPlvQdzmv"
      }
    },
    {
      "cell_type": "markdown",
      "source": [
        "## 문제 1 : 딕셔너리 생성 및 요소 접근"
      ],
      "metadata": {
        "id": "Z22yZVmQfG1o"
      }
    },
    {
      "cell_type": "code",
      "source": [
        "# 문제 1: 딕셔너리 생성 및 요소 접근\n",
        "student = {\n",
        "    'name' : '김민수',\n",
        "    'age' : 20,\n",
        "    'major' : '컴퓨터공학'\n",
        "}\n",
        "print(f\"학생 정보 딕셔너리 : {student}\")"
      ],
      "metadata": {
        "colab": {
          "base_uri": "https://localhost:8080/"
        },
        "id": "gbqNo1BUfFRq",
        "outputId": "a3d468ed-bb38-4170-8af4-acea26f2bbb6"
      },
      "execution_count": 4,
      "outputs": [
        {
          "output_type": "stream",
          "name": "stdout",
          "text": [
            "학생 정보 딕셔너리 : {'name': '김민수', 'age': 20, 'major': '컴퓨터공학'}\n"
          ]
        }
      ]
    },
    {
      "cell_type": "code",
      "source": [
        "name = student['name']\n",
        "print(f\"이름 : {name}\")"
      ],
      "metadata": {
        "colab": {
          "base_uri": "https://localhost:8080/"
        },
        "id": "oq8BU694fUJL",
        "outputId": "f4d0ffd1-32b0-47c9-cd85-0727fed3dda7"
      },
      "execution_count": 5,
      "outputs": [
        {
          "output_type": "stream",
          "name": "stdout",
          "text": [
            "이름 : 김민수\n"
          ]
        }
      ]
    },
    {
      "cell_type": "code",
      "source": [
        "age = student['age']\n",
        "print(f\"나이 : {age}\")"
      ],
      "metadata": {
        "colab": {
          "base_uri": "https://localhost:8080/"
        },
        "id": "6NNxp--TfbSH",
        "outputId": "fd8477fe-10e6-4d6f-e25b-987229d651ff"
      },
      "execution_count": 6,
      "outputs": [
        {
          "output_type": "stream",
          "name": "stdout",
          "text": [
            "나이 : 20\n"
          ]
        }
      ]
    },
    {
      "cell_type": "code",
      "source": [
        "major = student['major']\n",
        "print(f\"전공 : {major}\")"
      ],
      "metadata": {
        "colab": {
          "base_uri": "https://localhost:8080/"
        },
        "id": "5UqHne77ff05",
        "outputId": "e9a73e8d-2180-4979-e237-dc386eb34d0c"
      },
      "execution_count": 7,
      "outputs": [
        {
          "output_type": "stream",
          "name": "stdout",
          "text": [
            "전공 : 컴퓨터공학\n"
          ]
        }
      ]
    },
    {
      "cell_type": "markdown",
      "source": [
        "## 문제 2 : 딕셔너리 요소 추가 및 삭제"
      ],
      "metadata": {
        "id": "U0Hgh7wge_yl"
      }
    },
    {
      "cell_type": "code",
      "execution_count": 1,
      "metadata": {
        "colab": {
          "base_uri": "https://localhost:8080/"
        },
        "id": "4BVwCh9WcHfp",
        "outputId": "cbc84567-094e-4262-9b72-5c517f0f702c"
      },
      "outputs": [
        {
          "output_type": "stream",
          "name": "stdout",
          "text": [
            "원래 학생 정보 딕셔너리: {'name': '김민수', 'age': 20, 'major': '컴퓨터공학'}\n",
            "요소 추가 후 딕셔너리: {'name': '김민수', 'age': 20, 'major': '컴퓨터공학', 'grade': 4.0}\n"
          ]
        }
      ],
      "source": [
        "# 문제 2: 딕셔너리 요소 추가 및 삭제\n",
        "student = {\n",
        "    'name' : '김민수',\n",
        "    'age' : 20,\n",
        "    'major' : '컴퓨터공학'\n",
        "}\n",
        "print(f\"원래 학생 정보 딕셔너리: {student}\")\n",
        "\n",
        "student['grade'] = 4.0 # 새로운 키 'grade'와 값 추가\n",
        "print(f\"요소 추가 후 딕셔너리: {student}\")"
      ]
    },
    {
      "cell_type": "code",
      "source": [
        "del student['major'] # 키 'major'와 값 삭제\n",
        "\n",
        "print(f\"요소 삭제 후 딕셔너리 : {student}\")"
      ],
      "metadata": {
        "colab": {
          "base_uri": "https://localhost:8080/"
        },
        "id": "xCzobUDse0Zl",
        "outputId": "a7250469-8db8-4efb-df20-fb1fb881dcfd"
      },
      "execution_count": 3,
      "outputs": [
        {
          "output_type": "stream",
          "name": "stdout",
          "text": [
            "요소 삭제 후 딕셔너리 : {'name': '김민수', 'age': 20, 'grade': 4.0}\n"
          ]
        }
      ]
    },
    {
      "cell_type": "markdown",
      "source": [
        "## 데이터에 라벨이 필요하면 딕셔너리, 라벨이 필요 없으면 리스트 사용\n",
        "## 데이터의 순서가 중요하면 리스트 사용"
      ],
      "metadata": {
        "id": "WG8L0zDGi87M"
      }
    },
    {
      "cell_type": "markdown",
      "source": [
        "## 데이터를 자주 검색 or 빠른 검색 해야 하면 딕셔너리 사용"
      ],
      "metadata": {
        "id": "On8FZEqAjUjx"
      }
    },
    {
      "cell_type": "code",
      "source": [],
      "metadata": {
        "id": "50xCozNqjZUz"
      },
      "execution_count": null,
      "outputs": []
    }
  ]
}