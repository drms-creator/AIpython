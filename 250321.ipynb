{
  "nbformat": 4,
  "nbformat_minor": 0,
  "metadata": {
    "colab": {
      "provenance": [],
      "authorship_tag": "ABX9TyN9UKm9/aQhhViabwy0nr5w",
      "include_colab_link": true
    },
    "kernelspec": {
      "name": "python3",
      "display_name": "Python 3"
    },
    "language_info": {
      "name": "python"
    }
  },
  "cells": [
    {
      "cell_type": "markdown",
      "metadata": {
        "id": "view-in-github",
        "colab_type": "text"
      },
      "source": [
        "<a href=\"https://colab.research.google.com/github/drms-creator/AIpython/blob/main/250321.ipynb\" target=\"_parent\"><img src=\"https://colab.research.google.com/assets/colab-badge.svg\" alt=\"Open In Colab\"/></a>"
      ]
    },
    {
      "cell_type": "code",
      "execution_count": null,
      "metadata": {
        "colab": {
          "base_uri": "https://localhost:8080/"
        },
        "id": "onq56nm2S_E2",
        "outputId": "347ec9d0-162f-4604-8724-41b472dfa5b0"
      },
      "outputs": [
        {
          "output_type": "stream",
          "name": "stdout",
          "text": [
            "나이를 입력하세요: 10\n",
            "당신은 내년에 11 살입니다.\n"
          ]
        }
      ],
      "source": [
        "age = input(\"나이를 입력하세요: \") # age는 문자열!\n",
        "age = int(age) # 숫자로 변경!\n",
        "print(\"당신은 내년에\", age + 1, \"살입니다.\")"
      ]
    },
    {
      "cell_type": "code",
      "source": [
        "age = input(\"나이를 입력하세요: \") # age는 문자열!\n",
        "age = int(age) # 숫자로 변경!\n",
        "age = age + 1\n",
        "print(\"당신은 내년에\", age, \"살입니다.\")"
      ],
      "metadata": {
        "colab": {
          "base_uri": "https://localhost:8080/"
        },
        "id": "xDfnNQAJTJGu",
        "outputId": "25aaf1ce-2c71-40f2-b603-5932ed5ee467"
      },
      "execution_count": null,
      "outputs": [
        {
          "output_type": "stream",
          "name": "stdout",
          "text": [
            "나이를 입력하세요: 10\n",
            "당신은 내년에 11 살입니다.\n"
          ]
        }
      ]
    },
    {
      "cell_type": "markdown",
      "source": [
        "출력을 할 때 연산을 쓰는 건 스탠다드 스타일은 아님.\n",
        "밑 코드가 좀 더 스탠다드."
      ],
      "metadata": {
        "id": "6S8LM-taUBCU"
      }
    },
    {
      "cell_type": "markdown",
      "source": [
        "input()은 기본적으로 문자열로 입력 받는다."
      ],
      "metadata": {
        "id": "NbXHEWGFUOBc"
      }
    },
    {
      "cell_type": "code",
      "source": [
        "age = input(\"나이를 입력하세요: \") # age는 문자열!\n",
        "# age = int(age) # 숫자로 변경!\n",
        "age = age + 1\n",
        "print(\"당신은 내년에\", age, \"살입니다.\")"
      ],
      "metadata": {
        "colab": {
          "base_uri": "https://localhost:8080/",
          "height": 216
        },
        "id": "u0wHY2EuUEet",
        "outputId": "08db44bf-8420-4b1e-ca3f-081bc781a455"
      },
      "execution_count": null,
      "outputs": [
        {
          "name": "stdout",
          "output_type": "stream",
          "text": [
            "나이를 입력하세요: 10\n"
          ]
        },
        {
          "output_type": "error",
          "ename": "TypeError",
          "evalue": "can only concatenate str (not \"int\") to str",
          "traceback": [
            "\u001b[0;31m---------------------------------------------------------------------------\u001b[0m",
            "\u001b[0;31mTypeError\u001b[0m                                 Traceback (most recent call last)",
            "\u001b[0;32m<ipython-input-4-641bc7dabf80>\u001b[0m in \u001b[0;36m<cell line: 0>\u001b[0;34m()\u001b[0m\n\u001b[1;32m      1\u001b[0m \u001b[0mage\u001b[0m \u001b[0;34m=\u001b[0m \u001b[0minput\u001b[0m\u001b[0;34m(\u001b[0m\u001b[0;34m\"나이를 입력하세요: \"\u001b[0m\u001b[0;34m)\u001b[0m \u001b[0;31m# age는 문자열!\u001b[0m\u001b[0;34m\u001b[0m\u001b[0;34m\u001b[0m\u001b[0m\n\u001b[1;32m      2\u001b[0m \u001b[0;31m# age = int(age) # 숫자로 변경!\u001b[0m\u001b[0;34m\u001b[0m\u001b[0;34m\u001b[0m\u001b[0m\n\u001b[0;32m----> 3\u001b[0;31m \u001b[0mage\u001b[0m \u001b[0;34m=\u001b[0m \u001b[0mage\u001b[0m \u001b[0;34m+\u001b[0m \u001b[0;36m1\u001b[0m\u001b[0;34m\u001b[0m\u001b[0;34m\u001b[0m\u001b[0m\n\u001b[0m\u001b[1;32m      4\u001b[0m \u001b[0mprint\u001b[0m\u001b[0;34m(\u001b[0m\u001b[0;34m\"당신은 내년에\"\u001b[0m\u001b[0;34m,\u001b[0m \u001b[0mage\u001b[0m\u001b[0;34m,\u001b[0m \u001b[0;34m\"살입니다.\"\u001b[0m\u001b[0;34m)\u001b[0m\u001b[0;34m\u001b[0m\u001b[0;34m\u001b[0m\u001b[0m\n",
            "\u001b[0;31mTypeError\u001b[0m: can only concatenate str (not \"int\") to str"
          ]
        }
      ]
    },
    {
      "cell_type": "code",
      "source": [
        "age = input(\"나이를 입력하세요: \") # age는 문자열!\n",
        "age = float(age) # 숫자로 변경!\n",
        "age = age + 1\n",
        "print(\"당신은 내년에\", age, \"살입니다.\")"
      ],
      "metadata": {
        "colab": {
          "base_uri": "https://localhost:8080/"
        },
        "id": "dDymtOXHUvGE",
        "outputId": "32dbaeed-ea4f-4ee9-bdb3-1cee112c15b3"
      },
      "execution_count": null,
      "outputs": [
        {
          "output_type": "stream",
          "name": "stdout",
          "text": [
            "나이를 입력하세요: 10\n",
            "당신은 내년에 11.0 살입니다.\n"
          ]
        }
      ]
    },
    {
      "cell_type": "code",
      "source": [
        "age = int(input(\"나이를 입력\"))\n",
        "print(age + \"살입니다.\")"
      ],
      "metadata": {
        "colab": {
          "base_uri": "https://localhost:8080/",
          "height": 180
        },
        "id": "Bih6dDtFVelm",
        "outputId": "23eca0c0-8400-42e9-9cc5-7936200801bf"
      },
      "execution_count": null,
      "outputs": [
        {
          "name": "stdout",
          "output_type": "stream",
          "text": [
            "나이를 입력10\n"
          ]
        },
        {
          "output_type": "error",
          "ename": "TypeError",
          "evalue": "unsupported operand type(s) for +: 'int' and 'str'",
          "traceback": [
            "\u001b[0;31m---------------------------------------------------------------------------\u001b[0m",
            "\u001b[0;31mTypeError\u001b[0m                                 Traceback (most recent call last)",
            "\u001b[0;32m<ipython-input-6-111f4bdb1a95>\u001b[0m in \u001b[0;36m<cell line: 0>\u001b[0;34m()\u001b[0m\n\u001b[1;32m      1\u001b[0m \u001b[0mage\u001b[0m \u001b[0;34m=\u001b[0m \u001b[0mint\u001b[0m\u001b[0;34m(\u001b[0m\u001b[0minput\u001b[0m\u001b[0;34m(\u001b[0m\u001b[0;34m\"나이를 입력\"\u001b[0m\u001b[0;34m)\u001b[0m\u001b[0;34m)\u001b[0m\u001b[0;34m\u001b[0m\u001b[0;34m\u001b[0m\u001b[0m\n\u001b[0;32m----> 2\u001b[0;31m \u001b[0mprint\u001b[0m\u001b[0;34m(\u001b[0m\u001b[0mage\u001b[0m \u001b[0;34m+\u001b[0m \u001b[0;34m\"살입니다.\"\u001b[0m\u001b[0;34m)\u001b[0m\u001b[0;34m\u001b[0m\u001b[0;34m\u001b[0m\u001b[0m\n\u001b[0m",
            "\u001b[0;31mTypeError\u001b[0m: unsupported operand type(s) for +: 'int' and 'str'"
          ]
        }
      ]
    },
    {
      "cell_type": "code",
      "source": [
        "age = int(input(\"나이를 입력하세요: \"))\n",
        "print(str(age) + \"살입니다.\")"
      ],
      "metadata": {
        "colab": {
          "base_uri": "https://localhost:8080/"
        },
        "id": "aVt0xmVIV_TF",
        "outputId": "6b100a33-fb88-4355-d61d-d636fd4934a0"
      },
      "execution_count": null,
      "outputs": [
        {
          "output_type": "stream",
          "name": "stdout",
          "text": [
            "나이를 입력하세요: 10\n",
            "10살입니다.\n"
          ]
        }
      ]
    },
    {
      "cell_type": "code",
      "source": [
        "score = 78\n",
        "if score >= 90:\n",
        "  print(\"정말 잘했어요!\")\n",
        "elif score >= 60: # elif = else if\n",
        "  print(\"좋아요, 합격입니다!\")\n",
        "else:\n",
        "  print(\"다음에 더 잘해봐요!\")\n",
        "\n",
        "# 내려오면서 한번이라도 참 조건에 맞게 되면, 밑에 있는 나머지 조건들 아예 실행안되고 그대로 종료."
      ],
      "metadata": {
        "colab": {
          "base_uri": "https://localhost:8080/"
        },
        "id": "0NW5tGLrWF1E",
        "outputId": "3226bc28-a5ce-4892-c23f-d4fb3ab9ab99"
      },
      "execution_count": null,
      "outputs": [
        {
          "output_type": "stream",
          "name": "stdout",
          "text": [
            "좋아요, 합격입니다!\n"
          ]
        }
      ]
    },
    {
      "cell_type": "code",
      "source": [
        "# '변수 연산자 + 숫자' Ok\n",
        "# '변수 연산자 + 변수' Ok\n",
        "# '숫자 연산자 + 변수'는 안씀!!"
      ],
      "metadata": {
        "id": "Z7X-kIpmXFtM"
      },
      "execution_count": null,
      "outputs": []
    },
    {
      "cell_type": "markdown",
      "source": [
        "# 등호 = 한 개와 == 두 개의 차이"
      ],
      "metadata": {
        "id": "GUt7WBM8X3Im"
      }
    },
    {
      "cell_type": "markdown",
      "source": [
        "# '=' : 대입 연산자 or 할당 연산자 (이항 연산자 종류에 속함)\n",
        "# '==' : 비교(같다)\n",
        "\n",
        "A = B -> B를 A에 대입한다.\n",
        "\n",
        "# '변수 연산자 + 숫자' Ok\n",
        "# '변수 연산자 + 변수' Ok\n",
        "# '숫자 연산자 + 변수'는 안씀!!\n",
        "\n",
        "## 변수 연산자 변수\n",
        "## 변수 연산자 명령문\n",
        "## 대입, 할당 = 저장\n",
        "\n",
        "## 조건문 -> T/F 판단"
      ],
      "metadata": {
        "id": "GwXIHJL3X7Rw"
      }
    },
    {
      "cell_type": "code",
      "source": [
        "# 입력받은 숫자가 양수인지 음수인지 판단하는 프로그램 작성\n",
        "# 음수면 \"음수입니다!\" 출력\n",
        "# 양수면 \"양수입니다!\" 출력\n",
        "\n",
        "Number = int(input(\"숫자를 하나 입력하세요: \"))\n",
        "if Number >0:\n",
        "  print(\"양수입니다!\")\n",
        "elif Number <0:\n",
        "  print(\"음수입니다!\")\n",
        "else:\n",
        "  print(\"0\")"
      ],
      "metadata": {
        "colab": {
          "base_uri": "https://localhost:8080/"
        },
        "id": "GQKPkzq0X6kM",
        "outputId": "183a1ed8-4e75-44b0-bcc5-a34026693c10"
      },
      "execution_count": null,
      "outputs": [
        {
          "output_type": "stream",
          "name": "stdout",
          "text": [
            "숫자를 하나 입력하세요: 0\n",
            "0\n"
          ]
        }
      ]
    },
    {
      "cell_type": "markdown",
      "source": [
        "#<오류의 종류>\n",
        "## 문법 오류 : 오타, syntax (문법) 오류\n",
        "## 논리 오류 : 로직이 완벽해야 함\n",
        "\n",
        "### 알파 테스트 : 본인이 하는 테스트\n",
        "### 베타 테스트 : 타인 여러 명이서 하는 테스트\n",
        "### 베타 테스트 후 정식 배포를 한다. 컴퓨터에는 버그라는 게 있기 때문에 지속적으로 유지 보수를 하게 된다."
      ],
      "metadata": {
        "id": "rpgFdOERbQvQ"
      }
    },
    {
      "cell_type": "code",
      "source": [
        "# 짝수/홀수를 구분하는 프로그램 작성\n",
        "# 판단해야하는 게 두 개뿐이라, 조건은 하나만 걸고 나머지는 else로 처리\n",
        "\n",
        "Num = int(input(\"숫자를 하나 입력하세요: \"))\n",
        "if (Num%2) == 0:\n",
        "  print(\"짝수입니다!\")\n",
        "else:\n",
        "  print(\"홀수입니다!\")"
      ],
      "metadata": {
        "colab": {
          "base_uri": "https://localhost:8080/"
        },
        "id": "l0h8tB1JctEo",
        "outputId": "e60065f5-264c-4319-d309-83e408d6205c"
      },
      "execution_count": null,
      "outputs": [
        {
          "output_type": "stream",
          "name": "stdout",
          "text": [
            "숫자를 하나 입력하세요: 11\n",
            "홀수입니다!\n"
          ]
        }
      ]
    },
    {
      "cell_type": "markdown",
      "source": [
        "# 개발자에게 마트에 가서 사과 3개를 사오고 만약에 수박 있으면 하나 사와 (개발자 유머)"
      ],
      "metadata": {
        "id": "fYiTyzUtmZRV"
      }
    },
    {
      "cell_type": "code",
      "source": [
        "class MartInventory:\n",
        "    def __init__(self):\n",
        "        # 마트의 재고 정보를 리스트로 초기화\n",
        "        self.inventory = [\"사과\", \"바나나\", \"오렌지\", \"포도\"]\n",
        "\n",
        "        # 수박은 사용자 입력에 따라 재고 설정\n",
        "        watermelon_available = input(\"마트에 수박이 있나요? (y/n): \").lower()\n",
        "        if watermelon_available == 'y':\n",
        "            self.inventory.append(\"수박\")\n",
        "            print(\"수박이 재고에 추가되었습니다.\")\n",
        "\n",
        "    def check_availability(self, item):\n",
        "        \"\"\"특정 상품의 재고 여부를 확인\"\"\"\n",
        "        return item in self.inventory\n",
        "\n",
        "    def buy_item(self, item):\n",
        "        \"\"\"상품 구매 처리\"\"\"\n",
        "        if self.check_availability(item):\n",
        "            return True\n",
        "        return False  # 재고 없음\n",
        "\n",
        "def shopping(mart):\n",
        "    \"\"\"쇼핑 함수\"\"\"\n",
        "    apple_count = 3  # 기본적으로 사과 3개 구매\n",
        "    purchased_items = []\n",
        "\n",
        "    print(\"마트에 방문했습니다.\")\n",
        "\n",
        "    # 수박 재고 확인\n",
        "    watermelon_available = mart.check_availability(\"수박\")\n",
        "    print(f\"수박 재고 확인 결과: {'있음' if watermelon_available else '없음'}\")\n",
        "\n",
        "    # 수박이 있으면 사과 1개만 구매, 없으면 3개 구매 (수박은 구입하지 않음)\n",
        "    if watermelon_available:\n",
        "        print(\"수박이 있네요! 사과는 1개만 사기로 합니다.\")\n",
        "        apple_count = 1\n",
        "    else:\n",
        "        apple_count = 3\n",
        "        print(\"수박이 없네요. 사과 3개를 사기로 합니다.\")\n",
        "\n",
        "    # 사과 구매\n",
        "    if mart.buy_item(\"사과\"):\n",
        "        for i in range(apple_count):\n",
        "            purchased_items.append(\"사과\")\n",
        "        print(f\"사과 {apple_count}개를 장바구니에 담았습니다.\")\n",
        "\n",
        "    # 구매 목록 출력\n",
        "    print(\"\\n===== 구매 목록 =====\")\n",
        "    print(f\"- 사과 {apple_count}개\")\n",
        "    print(\"===================\")\n",
        "\n",
        "    return \"쇼핑을 완료했습니다!\"\n",
        "\n",
        "# 실행\n",
        "if __name__ == \"__main__\":\n",
        "    e_mart = MartInventory()  # 마트 인스턴스 생성\n",
        "    result = shopping(e_mart)  # 쇼핑 실행\n",
        "    print(result)"
      ],
      "metadata": {
        "colab": {
          "base_uri": "https://localhost:8080/"
        },
        "id": "B0B18W0Qd_9S",
        "outputId": "2baa8306-927b-4a1e-a9e2-95fcaa6b26ea"
      },
      "execution_count": null,
      "outputs": [
        {
          "output_type": "stream",
          "name": "stdout",
          "text": [
            "마트에 수박이 있나요? (y/n): y\n",
            "수박이 재고에 추가되었습니다.\n",
            "마트에 방문했습니다.\n",
            "수박 재고 확인 결과: 있음\n",
            "수박이 있네요! 사과는 1개만 사기로 합니다.\n",
            "사과 1개를 장바구니에 담았습니다.\n",
            "\n",
            "===== 구매 목록 =====\n",
            "- 사과 1개\n",
            "===================\n",
            "쇼핑을 완료했습니다!\n"
          ]
        }
      ]
    },
    {
      "cell_type": "markdown",
      "source": [
        "# 가위바위보\n",
        "\n",
        "* 논리 연산자\n",
        "  - and (그리고), or (또는), not (부정)\n",
        "\n",
        "\n",
        "* 큰 문제를 작은 단위로 쪼개라.\n"
      ],
      "metadata": {
        "id": "uqtnvChUjQbz"
      }
    },
    {
      "cell_type": "code",
      "source": [
        "num = int(input(\"숫자를 입력: \"))\n",
        "if num == 1 or num == 2 or num == 3:\n",
        "  print(\"Ok\")\n",
        "else:\n",
        "  print(\"안됨\")"
      ],
      "metadata": {
        "colab": {
          "base_uri": "https://localhost:8080/"
        },
        "id": "nGDFir-HjRtn",
        "outputId": "c9ee7bd1-e569-4ff9-de32-78f4d78144ad"
      },
      "execution_count": null,
      "outputs": [
        {
          "output_type": "stream",
          "name": "stdout",
          "text": [
            "숫자를 입력: 1\n",
            "Ok\n"
          ]
        }
      ]
    },
    {
      "cell_type": "code",
      "source": [
        "A, B = map(int, input().split())\n",
        "\n",
        "if A == 1 and B == 2:\n",
        "  print(\"B승A패\")\n",
        "\n",
        "elif A == 1 and B == 3:\n",
        "  print(\"A승B패\")\n",
        "\n",
        "elif A == 2 and B == 1:\n",
        "  print(\"A승B패\")\n",
        "\n",
        "elif A == 2 and B == 3:\n",
        "  print(\"B승A패\")\n",
        "\n",
        "elif A == 3 and B == 1:\n",
        "  print(\"B승A패\")\n",
        "\n",
        "elif A ==3 and B == 2:\n",
        "  print(\"A승B패\")\n",
        "\n",
        "elif (A==1 and B==1) or (A==2 and B==2) or (A==3 and B==3):\n",
        "  print(\"무승부\")\n",
        "\n",
        "else:\n",
        "  print(\"잘못된입력\")"
      ],
      "metadata": {
        "colab": {
          "base_uri": "https://localhost:8080/"
        },
        "id": "hNjzxEfDjtG1",
        "outputId": "1628742d-a4e1-436a-e97a-8f5e1dbaec36"
      },
      "execution_count": null,
      "outputs": [
        {
          "output_type": "stream",
          "name": "stdout",
          "text": [
            "4 4\n",
            "잘못된입력\n"
          ]
        }
      ]
    },
    {
      "cell_type": "code",
      "source": [
        "A, B = map(int, input().split())\n",
        "\n",
        "if (A == 1 and B == 2) or (A == 2 and B == 3) or (A == 3 and B == 1):\n",
        "  print(\"B승A패\")\n",
        "\n",
        "elif (A == 1 and B == 3) or (A == 2 and B == 1) or (A ==3 and B == 2):\n",
        "  print(\"A승B패\")\n",
        "\n",
        "elif (A==1 and B==1) or (A==2 and B==2) or (A==3 and B==3):\n",
        "  print(\"무승부\")\n",
        "\n",
        "else:\n",
        "  print(\"잘못된입력\")"
      ],
      "metadata": {
        "colab": {
          "base_uri": "https://localhost:8080/"
        },
        "id": "reH-hjVylZKe",
        "outputId": "b8313bed-a359-45ea-addb-7ad2e122b706"
      },
      "execution_count": null,
      "outputs": [
        {
          "output_type": "stream",
          "name": "stdout",
          "text": [
            "1 3\n",
            "A승B패\n"
          ]
        }
      ]
    },
    {
      "cell_type": "code",
      "source": [
        "A, B = map(int, input().split())\n",
        "\n",
        "if (A==1 and B==1) or (A==2 and B==2) or (A==3 and B==3):\n",
        "  print(\"무승부\")\n",
        "\n",
        "elif not((A == 1 or A == 2 or A == 3) and (B == 1 or B == 2 or B == 3)):\n",
        "  print(\"잘못된입력\")\n",
        "\n",
        "elif (A == 1 and B == 3) or (A == 2 and B == 1) or (A ==3 and B == 2):\n",
        "  print(\"A승B패\")\n",
        "\n",
        "else:\n",
        "  print(\"B승A패\")\n"
      ],
      "metadata": {
        "colab": {
          "base_uri": "https://localhost:8080/"
        },
        "id": "MDkNNVojmUKS",
        "outputId": "af89faed-9b6c-41fb-e402-5a5e9e96ac34"
      },
      "execution_count": null,
      "outputs": [
        {
          "output_type": "stream",
          "name": "stdout",
          "text": [
            "1 3\n",
            "A승B패\n"
          ]
        }
      ]
    },
    {
      "cell_type": "code",
      "source": [],
      "metadata": {
        "id": "QzicvoZzrOnP"
      },
      "execution_count": null,
      "outputs": []
    }
  ]
}